{
 "cells": [
  {
   "cell_type": "markdown",
   "metadata": {},
   "source": [
    "# Bioinformatics Final Project \n",
    "## Predicting Breast Cancer Treatment Outcome using Machine Learning on Mutation Profiles\n",
    "\n",
    "A. Ali Heydari"
   ]
  },
  {
   "cell_type": "markdown",
   "metadata": {},
   "source": [
    "## Abstract\n",
    "\n",
    "Cancer patients have one of the highest mortality rates of all diseases, and cancer diagnosis and prognosis remain a highly challenging task. According to the National Cancer Institute, breast cancer is the most common cancer type, but the effectiveness of treatment for cancer patients remains largely unknown. For decades, researchers have studied various ways to improve the prognosis of cancers, and machine learning has been at the forefront of that effort in the recent years. Many machine learning models can predict breast cancer with high accuracy, but very few have studied the effect of prognosis, and very few have considered the patients' mutation profiles alone. "
   ]
  },
  {
   "cell_type": "markdown",
   "metadata": {},
   "source": [
    "# Introduction\n",
    "\n",
    "In this section, we will discuss the problem at hand and some related work in **Background**. In the **Data Analysis**, we will explore the data to see what types of mutations are present and what are some of the most mutated genes. In the same section, we will also work through how to split the data to *Train, Validate and Test* so that the distribution of the data is the same in all three sub-divisions (for more accurate training). The ***Methods*** section will walk us through the architecture of our networks and training and Gene Set Enrichment Analysis (GSEA). Lastly, ***Results and Discussion*** will focus on the results of our training and GSEA and what should be interpreted from it, and future direction of this research."
   ]
  },
  {
   "cell_type": "markdown",
   "metadata": {},
   "source": [
    "### Background and Data Analysis"
   ]
  },
  {
   "cell_type": "markdown",
   "metadata": {},
   "source": [
    "Our data is the Breast Cancer data from TCGA (***TCGA-BRCA***) available [here](https://portal.gdc.cancer.gov/projects/TCGA-BRCA) (as of Dec. 14th 2019). The data format is *Mutation Annotated File (maf)*, and we can use a <code> maftools </code> (available [here](https://bioconductor.org/packages/release/bioc/html/maftools.html)) to explore the data. First, we want to install <code> maftools </code> through R. There is a full R-Notebook available at [My Github](https://github.com/dr-aheydari/Breast-Cancer-Treatment-Prediction)."
   ]
  },
  {
   "cell_type": "markdown",
   "metadata": {},
   "source": [
    "# Data Proceesing for Training\n",
    "In this section we will read in the data, look at the label distribution and bootstrap the minority class. We use the data prepared in the <code> R </code> and other <code> Python </code> notebook to process and preapre for training."
   ]
  },
  {
   "cell_type": "markdown",
   "metadata": {},
   "source": [
    "Now that we have the data as samples vs. Genes, we want to load the data in; we have splitted the data in three categories (train, validation and test) but later we will reunite them and split it one more time"
   ]
  },
  {
   "cell_type": "markdown",
   "metadata": {},
   "source": [
    "## Install Needed Packages\n",
    "Here we include a script to install all needed packages for this notebook. Please be advised that there might be some packages that we may have forgotten to include, and/or they are included on this pod that may not be on your machine. Please read the errors carefully and install any additional packages as needed. Please uncomment any/all package you need on your machine."
   ]
  },
  {
   "cell_type": "code",
   "execution_count": 1,
   "metadata": {},
   "outputs": [],
   "source": [
    "# ! pip install numpy\n",
    "# ! pip install pandas\n",
    "# ! pip install tensorflow==1.14\n",
    "# ! pip install tensorflow_gpu==1.14\n",
    "# ! pip install -U scikit-learn\n",
    "# ! pip install imblearn\n",
    "# ! pip install matplotlib\n",
    "# ! pip install torch torchvision\n",
    "# ! pip install gseapy"
   ]
  },
  {
   "cell_type": "code",
   "execution_count": 2,
   "metadata": {},
   "outputs": [],
   "source": [
    "import os\n",
    "import numpy as np\n",
    "import pandas as pd\n",
    "\n",
    "# read the data\n",
    "# PLEASE MAKE SURE TO CHANGE THE DIRECTORY TO YOUR LOCAL DIRECTORY\n",
    "train_data = open(\"/home/jovyan/NRT ICGE/train_matrix.tsv\", \"r+\");\n",
    "valid_data = open(\"/home/jovyan/NRT ICGE/val_matrix.tsv\", \"r+\");\n",
    "test_data = open(\"/home/jovyan/NRT ICGE/test_matrix.tsv\", \"r+\");\n",
    "\n",
    "train_resp_data = open(\"/home/jovyan/NRT ICGE/train_response.tsv\", \"r+\");\n",
    "valid_resp_data = open(\"/home/jovyan/NRT ICGE/val_response.tsv\", \"r+\");\n",
    "test_resp_data = open(\"/home/jovyan/NRT ICGE/test_response.tsv\", \"r+\");\n",
    "\n",
    "# init the NUMPY arrays (later need tensors)\n",
    "train = [];\n",
    "tr_resp = [];\n",
    "\n",
    "valid = [];\n",
    "val_resp = [];\n",
    "\n",
    "test = [];\n",
    "tst_resp = [];\n",
    "labels = [];\n",
    "\n",
    "# use pandas to read the data and get rid of tabs\n",
    "tr_df = pd.read_csv(train_data, sep=\"\\t\");\n",
    "vl_df = pd.read_csv(valid_data, sep=\"\\t\");\n",
    "ts_df = pd.read_csv(test_data, sep=\"\\t\");\n"
   ]
  },
  {
   "cell_type": "markdown",
   "metadata": {},
   "source": [
    "Now to get the gene names, which will come in handy later for feature importance. We get the gene names as an array which we can iterate through : "
   ]
  },
  {
   "cell_type": "code",
   "execution_count": 3,
   "metadata": {},
   "outputs": [],
   "source": [
    "### to get the column names which are the gene names : \n",
    "genes = pd.read_csv(\"/home/jovyan/NRT ICGE/train_matrix.tsv\",sep=\"\\t\", nrows=1).columns.tolist()"
   ]
  },
  {
   "cell_type": "markdown",
   "metadata": {},
   "source": [
    "Now we can put the three splits of our data into different numpy arrays that we can use for training. We also get rid of our responses in the data to make sure we are not providing the ansewers to our models:"
   ]
  },
  {
   "cell_type": "code",
   "execution_count": 4,
   "metadata": {},
   "outputs": [
    {
     "name": "stdout",
     "output_type": "stream",
     "text": [
      "last column of Train\n",
      "[1 1 1 1 1 1 1 1 1 1 1 1 1 1 1 1 1 1 1 1 1 1 1 1 1 1 1 1 1 1 1 1 1 1 1 1 1\n",
      " 1 1 1 1 1 1 1 1 1 1 1 1 1 1 1 1 1 1 1 1 1 1 1 1 1 1 1 1 1 1 1 1 1 1 1 1 1\n",
      " 1 1 1 1 1 1 1 1 1 1 1 1 1 1 1 1 1 1 1 1 1 1 1 1 1 1 1 1 1 1 1 1 1 1 1 1 1\n",
      " 1 1 1 1 1 1 1 1 1 1 1 1 1 1 1 1 1 1 1 1 1 1 1 1 1 1 1 1 1 1 1 1 1 1 1 1 1\n",
      " 1 1 1 1 1 1 1 1 1 1 1 1 1 1 1 1 1 1 1 1 1 1 1 1 1 1 1 1 1 1 1 1 1 1 1 1 1\n",
      " 1 1 1 1 1 0 0 0 0 0 0 0 0 0 0 0 0 0 0 0 0 0 0 0 0 0 0 0 0 0 0 0 0 0 0 0 0\n",
      " 0 0 0 0 0 0 0 0 0 0 0 0 0 0 0 0 0 0 0 0 0 0 0 0 0 0 0 0 0 0 0 0 0 0 0 0 0\n",
      " 0 0 0 0 0 0 0 0 0 0 0 0 0 0 0 0 0 0 0 0 0 0 0 0 0 0 0 0 0 0 0 0 0 0 0 0 0\n",
      " 0 0 0 0 0 0 0 0 0 0 0 0 0 0 0 0 0 0 0 0 0 0 0 0 0 0]\n",
      "removing responses from the matrix\n",
      "Most recent Train's LC :\n",
      "[0 0 0 0 0 0 0 0 0 0 0 0 0 0 0 0 0 0 0 0 0 0 0 0 0 0 0 0 0 0 0 0 0 0 0 0 0\n",
      " 0 0 0 0 0 0 0 0 0 0 0 0 0 0 0 0 0 0 0 0 0 0 0 0 0 0 0 0 0 0 0 0 0 0 0 0 0\n",
      " 0 0 0 0 0 0 0 0 0 0 0 0 0 0 0 0 0 0 0 0 0 0 0 0 0 0 0 0 0 0 0 0 0 0 0 0 0\n",
      " 0 0 0 0 0 0 0 0 0 0 0 0 0 0 0 0 0 0 0 0 0 0 0 0 0 0 0 0 0 0 0 0 0 0 0 0 0\n",
      " 0 0 0 0 0 0 0 0 0 0 0 0 0 0 0 0 0 0 0 0 0 0 0 0 0 0 0 0 0 0 0 0 0 0 0 0 0\n",
      " 0 0 0 0 0 0 0 0 0 0 0 0 0 0 0 0 0 0 0 0 0 0 0 0 0 0 0 0 0 0 0 0 0 0 0 0 0\n",
      " 0 0 0 0 0 0 0 0 0 0 0 0 0 0 0 0 0 0 0 0 0 0 0 0 0 0 0 0 0 0 0 0 0 0 0 0 0\n",
      " 0 0 0 0 0 0 0 0 0 0 0 0 0 0 0 0 0 0 0 0 0 0 0 0 0 0 0 0 0 0 0 0 0 0 0 0 0\n",
      " 0 0 0 0 0 0 0 0 0 0 0 0 0 0 0 0 0 0 0 0 0 0 0 0 0 0]\n",
      "last column of Validation\n",
      "[1 1 1 1 1 1 1 1 1 1 1 1 1 1 1 1 1 1 1 1 1 1 1 1 1 1 1 1 1 1 1 1 1 1 1 1 1\n",
      " 1 1 1 1 1 1 1 1 1 1 1 1 1 1 1 1 1 1 1 1 1 1 1 1 1 1 1 1 1 1 1 1 1 1 1 1 1\n",
      " 1 1 1 1 1 1 1 1 1 1 1 1 1 1 1 1 1 1 1 1 1 1 1 1 1 1 1 1 1 1 1 1 1 1 1 1 1\n",
      " 1 1 1 1 1 1 1 1 1 1 1 1 1 1 1 1 1 1 1 1 1 1 1 1 1 1 1 1 1 1 1 1 1 1 1 1 1\n",
      " 1 1 1 1 1 1 1 1 1 1 1 1 1 1 1 1 1 1 1 1 1 1 1 1 1 1 1 1 1 1 1 1 1 1 1 1 1\n",
      " 1 1 1 1 1 1 1 1 1 1 0 0 0 0 0 0 0 0 0 0 0 0 0 0 0 0 0 0 0 0 0 0 0 0 0 0 0\n",
      " 0 0 0 0 0 0 0 0 0 0 0 0 0 0 0 0 0 0 0 0 0 0 0 0 0 0 0 0 0 0 0 0 0 0 0 0 0\n",
      " 0 0 0 0 0 0 0 0 0 0 0 0 0 0 0 0 0 0 0 0 0 0 0 0 0 0 0 0 0 0 0 0 0 0 0 0 0\n",
      " 0 0 0 0 0 0 0 0 0 0 0 0 0 0 0 0 0 0 0 0 0 0 0 0 0 0 0 0 0 0 0 0]\n",
      "removing responses from the matrix\n",
      "Most recent validation's LC :\n",
      "[0 0 0 0 0 0 0 0 0 0 0 0 0 0 0 0 0 0 0 0 0 0 0 0 0 0 0 0 0 0 0 0 0 0 0 0 0\n",
      " 0 0 0 0 0 0 0 0 0 0 0 0 0 0 0 0 0 0 0 0 0 0 0 0 0 0 0 0 0 0 0 0 0 0 0 0 0\n",
      " 0 0 0 0 0 0 0 0 0 0 0 0 0 0 0 0 0 0 0 0 0 0 0 0 0 0 0 0 0 0 0 0 0 0 0 0 0\n",
      " 0 0 0 0 0 0 0 0 0 0 0 0 0 0 0 0 0 0 0 0 0 0 0 0 0 0 0 0 0 0 0 0 0 0 0 0 0\n",
      " 0 0 0 0 0 0 0 0 0 0 0 0 0 0 0 0 0 0 0 0 0 0 0 0 0 0 0 0 0 0 0 0 0 0 0 0 0\n",
      " 0 0 0 0 0 0 0 0 0 0 0 0 0 0 0 0 0 0 0 0 0 0 0 0 0 0 0 0 0 0 0 0 0 0 0 0 0\n",
      " 0 0 0 0 0 0 0 0 0 0 0 0 0 0 0 0 0 0 0 0 0 0 0 0 0 0 0 0 0 0 0 0 0 0 0 0 0\n",
      " 0 0 0 0 0 0 0 0 0 0 0 0 0 0 0 0 0 0 0 0 0 0 0 0 0 0 0 0 0 0 0 0 0 0 0 0 0\n",
      " 0 0 0 0 0 0 0 0 0 0 0 0 0 0 0 0 0 0 0 0 0 0 0 0 0 0 0 0 0 0 0 1]\n",
      "last column of Test\n",
      "[1 1 1 1 1 1 1 1 1 1 1 1 1 1 1 1 1 1 1 1 1 1 1 1 1 1 1 1 1 1 1 1 1 1 1 1 1\n",
      " 1 1 1 1 1 1 1 1 1 1 1 1 1 1 1 1 1 1 1 1 1 1 1 1 1 1 1 1 1 1 1 1 1 1 1 1 1\n",
      " 1 1 1 1 1 1 1 1 1 1 1 1 1 1 1 1 1 1 1 1 1 1 1 1 1 1 1 1 1 1 1 1 1 1 1 1 1\n",
      " 1 1 1 1 1 1 1 1 1 1 1 1 1 1 1 1 1 1 1 1 1 1 1 1 1 1 1 1 1 1 1 1 1 1 1 1 1\n",
      " 1 1 1 1 1 1 1 1 1 1 1 1 1 1 1 1 1 1 1 1 1 1 1 1 1 1 1 1 1 1 1 1 1 1 1 1 1\n",
      " 1 1 1 1 1 1 1 1 1 1 1 1 1 1 1 1 1 1 0 0 0 0 0 0 0 0 0 0 0 0 0 0 0 0 0 0 0\n",
      " 0 0 0 0 0 0 0 0 0 0 0 0 0 0 0 0 0 0 0 0 0 0 0 0 0 0 0 0 0 0 0 0 0 0 0 0 0\n",
      " 0 0 0 0 0 0 0 0 0 0 0 0 0 0 0 0 0 0 0 0 0 0 0 0 0 0 0 0 0 0 0 0 0 0 0 0 0\n",
      " 0 0 0 0 0 0 0 0 0 0 0 0 0 0 0 0 0 0 0 0 0 0 0 0 0 0 0 0 0 0 0 0 0 0 0 0 0\n",
      " 0 0 0 0]\n",
      "removing responses from the matrix\n",
      "Most recent validation's LC :\n",
      "[0 0 0 0 0 0 0 0 0 0 0 0 0 0 0 0 0 0 0 0 0 0 0 0 0 0 0 0 0 0 0 0 0 0 0 0 0\n",
      " 0 0 0 0 0 0 0 0 0 0 0 0 0 0 0 0 0 0 0 0 0 0 0 0 0 0 0 0 0 0 0 0 0 0 0 0 0\n",
      " 0 0 0 0 0 0 0 0 0 0 0 0 0 0 0 0 0 0 0 0 0 0 0 0 0 0 0 0 0 0 0 0 0 0 0 0 0\n",
      " 0 0 0 0 0 0 0 0 0 0 0 0 0 0 0 0 0 0 0 0 0 0 0 0 0 0 0 0 0 0 0 0 0 0 0 0 0\n",
      " 0 0 0 0 0 0 0 0 0 0 0 0 0 0 0 0 0 0 0 0 0 0 0 0 0 0 0 0 0 0 0 0 0 0 0 0 0\n",
      " 0 0 0 0 0 0 0 0 0 0 0 0 0 0 0 0 0 0 0 0 0 0 0 0 0 0 0 0 0 0 0 0 0 0 0 0 0\n",
      " 0 0 0 0 0 0 0 0 0 0 0 0 0 0 0 0 0 0 0 0 0 0 0 0 0 0 0 0 0 0 0 0 0 0 0 0 0\n",
      " 0 0 0 0 0 0 0 0 0 0 0 0 0 0 0 0 0 0 0 0 0 0 0 0 0 0 0 0 0 0 0 0 0 0 0 0 0\n",
      " 0 0 0 0 0 0 0 0 0 0 0 0 0 0 0 0 0 0 0 0 0 0 0 0 0 0 0 0 0 0 0 0 0 0 0 0 0\n",
      " 0 0 0 0]\n"
     ]
    }
   ],
   "source": [
    "\"\"\"\n",
    "NOTE: to use the code below, make sure to add the column headers to\n",
    "the treatment response tsv file : )\n",
    "\n",
    "\"\"\"\n",
    "## we only need second column because second column has the 0 and 1 ##\n",
    "# training\n",
    "tr_rs_df = pd.read_csv(train_resp_data, sep=\"\\t\",na_values=' ');\n",
    "tr_rs_df = tr_rs_df[\"COL2\"];\n",
    "\n",
    "# validation\n",
    "vl_rs_df = pd.read_csv(valid_resp_data, sep=\"\\t\");\n",
    "vl_rs_df = vl_rs_df[\"COL2\"];\n",
    "\n",
    "# test\n",
    "\n",
    "ts_rs_df = pd.read_csv(test_resp_data, sep=\"\\t\");\n",
    "ts_rs_df = ts_rs_df[\"COL2\"];\n",
    "\n",
    "\n",
    "# get only the numerical values of the arrays\n",
    "train = tr_df.values;\n",
    "valid = vl_df.values;\n",
    "test = ts_df.values;\n",
    "\n",
    "# responses\n",
    "train_resp = tr_rs_df.values;\n",
    "valid_resp = vl_rs_df.values;\n",
    "test_resp = ts_rs_df.values;\n",
    "\n",
    "\n",
    "# get rid of the patient responses at the last column (usually used in random forests)\n",
    "\n",
    "print(\"last column of Train\")\n",
    "print(train[:,-1])\n",
    "\n",
    "\n",
    "if train[:,0:-1].all() == train_resp.all() :\n",
    "    print(\"removing responses from the matrix\")\n",
    "    train_new = train[:,0:-1];\n",
    "else :\n",
    "    train_new = train;\n",
    "    #args.input_size\n",
    "\n",
    "print(\"Most recent Train's LC :\")\n",
    "\n",
    "print(train_new[:,-1])\n",
    "\n",
    "print(\"last column of Validation\")\n",
    "print(valid[:,-1])\n",
    "\n",
    "if valid[:,0:-1].all() == valid_resp.all() :\n",
    "    print(\"removing responses from the matrix\")\n",
    "    valid_new = valid[:,0:-1];\n",
    "else:\n",
    "    valid_new = valid;\n",
    "# LC means last column\n",
    "print(\"Most recent validation's LC :\")\n",
    "print(valid_new[:,-1])\n",
    "\n",
    "\n",
    "print(\"last column of Test\")\n",
    "print(test[:,-1])\n",
    "\n",
    "if test[:,0:-1].all() == test_resp.all():\n",
    "    print(\"removing responses from the matrix\")\n",
    "    test_new = test[:,0:-1];\n",
    "\n",
    "else:\n",
    "    test_new = test;\n",
    "print(\"Most recent validation's LC :\")\n",
    "print(test_new[:,-1])"
   ]
  },
  {
   "cell_type": "markdown",
   "metadata": {},
   "source": [
    "Now we put the data back into one big array to perform upsampling and have ***Sci-Kit Learn*** split it for us later into test and train (since we have such a small dataset)."
   ]
  },
  {
   "cell_type": "code",
   "execution_count": 5,
   "metadata": {},
   "outputs": [
    {
     "name": "stdout",
     "output_type": "stream",
     "text": [
      "(987, 19162)\n",
      "(987,)\n"
     ]
    }
   ],
   "source": [
    "train_test = np.vstack((train_new, test_new))\n",
    "all_data = np.vstack((train_test,valid_new));   \n",
    "# to make sure we have the correct dimension of 987x19162\n",
    "print(all_data.shape)\n",
    "tt_resp = np.hstack((train_resp,test_resp));\n",
    "all_resp = np.hstack((tt_resp,valid_resp));\n",
    "# to make sure we have the correct dimension of 1x987\n",
    "print(all_resp.shape)"
   ]
  },
  {
   "cell_type": "markdown",
   "metadata": {},
   "source": [
    "## Upsampling with Replacement the Minority Class in Patients \n",
    "We will show the count of the responses in the code below; we have many more patients labeled as responsiveness than unresponsiveness, therefore we will get very skewed classifications. To combat this issue, we use Sci-kit Learn's bootstrapping algorithm to upsample the minority class"
   ]
  },
  {
   "cell_type": "code",
   "execution_count": 6,
   "metadata": {},
   "outputs": [
    {
     "name": "stdout",
     "output_type": "stream",
     "text": [
      "Number of Unresponsive Patients: 399\n",
      "Number of Responsive Patients: 588\n",
      "After Bootstrapping we now have a total data size of: (1168, 19162)\n",
      "After Bootstrapping we also have (1168, 19162) labels\n"
     ]
    }
   ],
   "source": [
    "from sklearn.utils import resample\n",
    "\n",
    "# EXPLANATION ON WHY USING SO MANY FOR LOOPS\n",
    "# get a count of the minority and majority\n",
    "# this is the most efficient way of making a dynamic matrix in numpy\n",
    "# this is becuase NumPy arrays are stored in contiguous blocks of memory. If you want to add rows or columns to an existing array\n",
    "#the entire array needs to be copied to a new block of memory, creating gaps for the new elements to be stored. \n",
    "#This is very inefficient if done repeatedly to build an array (specially that we are running this on a cluster with 48 cores).\n",
    "\n",
    "# unresponive counter\n",
    "count = 0;\n",
    "# responsive counter\n",
    "bount = 0;\n",
    "for i in range(len(all_resp)):\n",
    "    # check to see if response is 0\n",
    "    if all_resp[i] == 0:    \n",
    "        count += 1;        \n",
    "    if all_resp[i] == 1:\n",
    "        bount += 1;\n",
    "print(\"Number of Unresponsive Patients: {}\".format(count))\n",
    "print(\"Number of Responsive Patients: {}\".format(bount))\n",
    "        \n",
    "# initializing the majority and minority    arrays     \n",
    "majority = np.zeros(shape=(bount,19162))\n",
    "minority = np.zeros(shape=(count,19162))\n",
    "\n",
    "# counters\n",
    "count = 0;\n",
    "bount = 0;\n",
    "\n",
    "for i in range(len(all_resp)):\n",
    "    # check to see if response is 0\n",
    "    if all_resp[i] == 0:    \n",
    "        minority[count,:] = all_data[i,:];\n",
    "        count += 1;\n",
    "        \n",
    "    if all_resp[i] == 1:\n",
    "        majority[bount,:] = all_data[i,:];\n",
    "        bount += 1;\n",
    " \n",
    "# Upsample minority class using bootstrapping\n",
    "minority_upsampled = resample(minority, \n",
    "                                 replace=True,     # sample with replacement\n",
    "                                 n_samples=580,    # to match majority class\n",
    "                                 random_state=123) # reproducible results\n",
    "\n",
    "#initialize the labels \n",
    "minor_labels = np.zeros((580,))\n",
    "major_labels = np.ones((588,))\n",
    "# Combine majority class with upsampled minority class\n",
    "upsampled = np.empty(shape=(len(minority_upsampled) + len(majority),19162));\n",
    "# stack up the minority and the majority samples again\n",
    "upsampled = np.vstack([majority, minority_upsampled])\n",
    " \n",
    "print(\"After Bootstrapping we now have a total data size of: {}\".format(upsampled.shape))\n",
    "\n",
    "# stacking the labels back with one another\n",
    "upsampled_labels = np.hstack((major_labels,minor_labels))\n",
    "\n",
    "#\n",
    "print(\"After Bootstrapping we also have {} labels\".format(upsampled.shape))"
   ]
  },
  {
   "cell_type": "markdown",
   "metadata": {},
   "source": [
    "we will shuffle the rows of the data now, since we just stacked the data on top of each other"
   ]
  },
  {
   "cell_type": "code",
   "execution_count": 7,
   "metadata": {},
   "outputs": [],
   "source": [
    "from sklearn.utils import shuffle\n",
    "# shuffle\n",
    "upsampled, upsampled_labels = shuffle(upsampled, upsampled_labels, random_state=7)"
   ]
  },
  {
   "cell_type": "markdown",
   "metadata": {},
   "source": [
    "## Selecting Fewer Features to Reduce Complexity\n",
    "Using <code> maftools </code> we found that the median number of mutations per gene are 41, so we will eliminate genes that have been mutated in less than 30 patients (in less than 3% of our patients). This will help us reduce the feature space and perhaps learn more valuable information"
   ]
  },
  {
   "cell_type": "code",
   "execution_count": 8,
   "metadata": {},
   "outputs": [
    {
     "name": "stdout",
     "output_type": "stream",
     "text": [
      "The new size of our feature space is (163,)\n"
     ]
    }
   ],
   "source": [
    "#sum the rows to get the most important factors with highest mutations\n",
    "row_sums = all_data.sum(axis=0)\n",
    "ind=np.array(1);\n",
    "count=0;\n",
    "for i in range(len(row_sums)):\n",
    "    if row_sums[i] > 30:\n",
    "        count+=1;\n",
    "#         print(\"Keep columns: {}\".format(i))\n",
    "        ind = np.append(ind,i);\n",
    "        \n",
    "        \n",
    "print(\"The new size of our feature space is {}\".format(ind.shape))"
   ]
  },
  {
   "cell_type": "markdown",
   "metadata": {},
   "source": [
    "Now we will filter out these genes from the patient's data : "
   ]
  },
  {
   "cell_type": "code",
   "execution_count": 9,
   "metadata": {},
   "outputs": [
    {
     "name": "stdout",
     "output_type": "stream",
     "text": [
      "Shape of the new upsampled data: (1168, 163)\n",
      "Shape of the original data (987, 163)\n"
     ]
    }
   ],
   "source": [
    "#filtering the upsampled data\n",
    "filtered_all = np.take(upsampled, ind, 1);\n",
    "\n",
    "# filtering the original data\n",
    "all_data_filtered = np.take(all_data, ind, 1);\n",
    "print(\"Shape of the new upsampled data: {}\".format(filtered_all.shape)) \n",
    "print(\"Shape of the original data {}\".format(all_data_filtered.shape))"
   ]
  },
  {
   "cell_type": "markdown",
   "metadata": {},
   "source": [
    "## Upsampling Minority with SMOTE\n",
    "In this section we will upsample our data using SMOTE."
   ]
  },
  {
   "cell_type": "code",
   "execution_count": 10,
   "metadata": {},
   "outputs": [
    {
     "name": "stderr",
     "output_type": "stream",
     "text": [
      "Using TensorFlow backend.\n",
      "/opt/conda/lib/python3.7/site-packages/tensorflow/python/framework/dtypes.py:516: FutureWarning: Passing (type, 1) or '1type' as a synonym of type is deprecated; in a future version of numpy, it will be understood as (type, (1,)) / '(1,)type'.\n",
      "  _np_qint8 = np.dtype([(\"qint8\", np.int8, 1)])\n",
      "/opt/conda/lib/python3.7/site-packages/tensorflow/python/framework/dtypes.py:517: FutureWarning: Passing (type, 1) or '1type' as a synonym of type is deprecated; in a future version of numpy, it will be understood as (type, (1,)) / '(1,)type'.\n",
      "  _np_quint8 = np.dtype([(\"quint8\", np.uint8, 1)])\n",
      "/opt/conda/lib/python3.7/site-packages/tensorflow/python/framework/dtypes.py:518: FutureWarning: Passing (type, 1) or '1type' as a synonym of type is deprecated; in a future version of numpy, it will be understood as (type, (1,)) / '(1,)type'.\n",
      "  _np_qint16 = np.dtype([(\"qint16\", np.int16, 1)])\n",
      "/opt/conda/lib/python3.7/site-packages/tensorflow/python/framework/dtypes.py:519: FutureWarning: Passing (type, 1) or '1type' as a synonym of type is deprecated; in a future version of numpy, it will be understood as (type, (1,)) / '(1,)type'.\n",
      "  _np_quint16 = np.dtype([(\"quint16\", np.uint16, 1)])\n",
      "/opt/conda/lib/python3.7/site-packages/tensorflow/python/framework/dtypes.py:520: FutureWarning: Passing (type, 1) or '1type' as a synonym of type is deprecated; in a future version of numpy, it will be understood as (type, (1,)) / '(1,)type'.\n",
      "  _np_qint32 = np.dtype([(\"qint32\", np.int32, 1)])\n",
      "/opt/conda/lib/python3.7/site-packages/tensorflow/python/framework/dtypes.py:525: FutureWarning: Passing (type, 1) or '1type' as a synonym of type is deprecated; in a future version of numpy, it will be understood as (type, (1,)) / '(1,)type'.\n",
      "  np_resource = np.dtype([(\"resource\", np.ubyte, 1)])\n",
      "/opt/conda/lib/python3.7/site-packages/tensorboard/compat/tensorflow_stub/dtypes.py:541: FutureWarning: Passing (type, 1) or '1type' as a synonym of type is deprecated; in a future version of numpy, it will be understood as (type, (1,)) / '(1,)type'.\n",
      "  _np_qint8 = np.dtype([(\"qint8\", np.int8, 1)])\n",
      "/opt/conda/lib/python3.7/site-packages/tensorboard/compat/tensorflow_stub/dtypes.py:542: FutureWarning: Passing (type, 1) or '1type' as a synonym of type is deprecated; in a future version of numpy, it will be understood as (type, (1,)) / '(1,)type'.\n",
      "  _np_quint8 = np.dtype([(\"quint8\", np.uint8, 1)])\n",
      "/opt/conda/lib/python3.7/site-packages/tensorboard/compat/tensorflow_stub/dtypes.py:543: FutureWarning: Passing (type, 1) or '1type' as a synonym of type is deprecated; in a future version of numpy, it will be understood as (type, (1,)) / '(1,)type'.\n",
      "  _np_qint16 = np.dtype([(\"qint16\", np.int16, 1)])\n",
      "/opt/conda/lib/python3.7/site-packages/tensorboard/compat/tensorflow_stub/dtypes.py:544: FutureWarning: Passing (type, 1) or '1type' as a synonym of type is deprecated; in a future version of numpy, it will be understood as (type, (1,)) / '(1,)type'.\n",
      "  _np_quint16 = np.dtype([(\"quint16\", np.uint16, 1)])\n",
      "/opt/conda/lib/python3.7/site-packages/tensorboard/compat/tensorflow_stub/dtypes.py:545: FutureWarning: Passing (type, 1) or '1type' as a synonym of type is deprecated; in a future version of numpy, it will be understood as (type, (1,)) / '(1,)type'.\n",
      "  _np_qint32 = np.dtype([(\"qint32\", np.int32, 1)])\n",
      "/opt/conda/lib/python3.7/site-packages/tensorboard/compat/tensorflow_stub/dtypes.py:550: FutureWarning: Passing (type, 1) or '1type' as a synonym of type is deprecated; in a future version of numpy, it will be understood as (type, (1,)) / '(1,)type'.\n",
      "  np_resource = np.dtype([(\"resource\", np.ubyte, 1)])\n"
     ]
    },
    {
     "name": "stdout",
     "output_type": "stream",
     "text": [
      "The New Upsampled data dimensions: (1176, 19162)\n",
      "The shape of the new upsampled response: (1176,)\n"
     ]
    }
   ],
   "source": [
    "from imblearn.over_sampling import SMOTE\n",
    "\n",
    "# load in the original data\n",
    "X = all_data;\n",
    "y = all_resp;\n",
    "\n",
    "# upsample in parallel\n",
    "sm = SMOTE(sampling_strategy='minority', random_state=22, k_neighbors=3, n_jobs=-1)\n",
    "\n",
    "X_smote,y_smote = sm.fit_resample(X, y)\n",
    "\n",
    "print(\"The New Upsampled data dimensions: {}\".format(X_smote.shape))\n",
    "print(\"The shape of the new upsampled response: {}\".format(y_smote.shape))\n",
    "\n"
   ]
  },
  {
   "cell_type": "markdown",
   "metadata": {},
   "source": [
    "Now to reduce the gene space for the mutations in more than 3% of the patients :"
   ]
  },
  {
   "cell_type": "code",
   "execution_count": 11,
   "metadata": {},
   "outputs": [
    {
     "name": "stdout",
     "output_type": "stream",
     "text": [
      "Shape of the new upsampled data with SMOTE: (1176, 163)\n"
     ]
    }
   ],
   "source": [
    "filtered_smote = np.take(X_smote, ind, 1);\n",
    "print(\"Shape of the new upsampled data with SMOTE: {}\".format(filtered_smote.shape)) "
   ]
  },
  {
   "cell_type": "markdown",
   "metadata": {},
   "source": [
    "# Training the Machine Learning Models\n",
    "First we want to train a Gradient Boosted Decision Tree, or more specifically, we will be using the eXtreme Gradient Boosting algorithm (XGBoost). More information about the algorithm can be found [here](https://). First, we want to do some parameter tuning using Cross Validation and grid search. \n"
   ]
  },
  {
   "cell_type": "markdown",
   "metadata": {},
   "source": [
    "## Fully Connected Neural Networks\n",
    "We want to train a classifier that would classify the patients' responsiveness to treatment, based on the mutation profile. We have tested many many different structures and, so far, the below structure is one of the best performing ones."
   ]
  },
  {
   "cell_type": "code",
   "execution_count": 12,
   "metadata": {},
   "outputs": [
    {
     "name": "stdout",
     "output_type": "stream",
     "text": [
      "Available to train on GPU\n"
     ]
    }
   ],
   "source": [
    "import torch \n",
    "import torch.nn as nn\n",
    "import torch.nn.functional as F\n",
    "#our class must extend nn.Module\n",
    "\n",
    "\n",
    "device = torch.device(\"cuda\" if torch.cuda.is_available() else \"cpu\")\n",
    "if str(device) == \"cuda\":\n",
    "    print('Available to train on GPU')\n",
    "else:\n",
    "    print('Can train on CPU only')\n",
    "\n",
    "\n",
    "class MyClassifier(nn.Module):\n",
    "    def __init__(self):\n",
    "        super(MyClassifier,self).__init__()\n",
    "        #Our network consists of 3 layers. 1 input, 1 hidden and 1 output layer\n",
    "        #This applies Linear transformation to input data. \n",
    "        self.fc1 = nn.Linear(163,32)        \n",
    "        #This applies linear transformation to produce output data\n",
    "        self.fc2 = nn.Linear(32,128)\n",
    "        self.fc3 = nn.Linear(128,64)\n",
    "        self.fc4 = nn.Linear(64,256)\n",
    "        self.fc5 = nn.Linear(256,16)\n",
    "        self.fc6 = nn.Linear(16,2)\n",
    "        self.relu = nn.ReLU();\n",
    "        # if needed\n",
    "        self.dropout = nn.Dropout(0.25)\n",
    "    #This must be implemented\n",
    "    def forward(self,x):\n",
    "        #Output of the first layer\n",
    "        x = self.fc1(x);\n",
    "        x = self.relu(x);\n",
    "        \n",
    "        x = self.fc2(x);\n",
    "        x = self.relu(x);\n",
    "#         x= self.dropout(x);\n",
    "            \n",
    "        x = self.fc3(x);\n",
    "        #x = self.relu(x);\n",
    "        x = self.relu(x);\n",
    "#         x= self.dropout(x);\n",
    "        \n",
    "        x = self.fc4(x);\n",
    "        x = self.relu(x);\n",
    "        \n",
    "        x = self.fc5(x);\n",
    "        x = self.relu(x);\n",
    "        \n",
    "        x = self.fc6(x);\n",
    "\n",
    "#       x = torch.tanh(x)\n",
    "        return F.log_softmax(x)\n",
    "\n",
    "    #This function takes an input and predicts the class, (0 or 1)        \n",
    "    def predict(self,x):\n",
    "        #Apply softmax to output. \n",
    "        pred = F.softmax(self.forward(x))\n",
    "        ans = []\n",
    "        #Pick the class with maximum weight\n",
    "        for t in pred:\n",
    "            if t[0]>t[1]:\n",
    "                ans.append(0)\n",
    "            else:\n",
    "                ans.append(1)\n",
    "        return torch.tensor(ans)"
   ]
  },
  {
   "cell_type": "code",
   "execution_count": 13,
   "metadata": {},
   "outputs": [],
   "source": [
    "#Initialize the model and send to CUDA       \n",
    "model = MyClassifier().to(device)\n",
    "#Define loss criterion and send to CUDA\n",
    "criterion = nn.CrossEntropyLoss().to(device)\n",
    "#Define the optimizer \n",
    "optimizer = torch.optim.Adam(model.parameters(), lr=0.01)"
   ]
  },
  {
   "cell_type": "markdown",
   "metadata": {},
   "source": [
    "### Training on Upsampled with Replacement "
   ]
  },
  {
   "cell_type": "code",
   "execution_count": 14,
   "metadata": {},
   "outputs": [
    {
     "name": "stderr",
     "output_type": "stream",
     "text": [
      "/opt/conda/lib/python3.7/site-packages/ipykernel_launcher.py:53: UserWarning: Implicit dimension choice for log_softmax has been deprecated. Change the call to include dim=X as an argument.\n"
     ]
    },
    {
     "name": "stdout",
     "output_type": "stream",
     "text": [
      "Epoch [5/65],Cross Entropy Loss: 0.6834\n",
      "Epoch [10/65],Cross Entropy Loss: 0.5533\n",
      "Epoch [15/65],Cross Entropy Loss: 0.3544\n",
      "Epoch [20/65],Cross Entropy Loss: 0.2023\n",
      "Epoch [25/65],Cross Entropy Loss: 0.0830\n",
      "Epoch [30/65],Cross Entropy Loss: 0.0392\n",
      "Epoch [35/65],Cross Entropy Loss: 0.0204\n",
      "Epoch [40/65],Cross Entropy Loss: 0.0130\n",
      "Epoch [45/65],Cross Entropy Loss: 0.0130\n",
      "Epoch [50/65],Cross Entropy Loss: 0.0120\n",
      "Epoch [55/65],Cross Entropy Loss: 0.0120\n",
      "Epoch [60/65],Cross Entropy Loss: 0.0126\n",
      "Epoch [65/65],Cross Entropy Loss: 0.0129\n"
     ]
    }
   ],
   "source": [
    "#!/usr/bin/env python -W ignore::DeprecationWarning\n",
    "\n",
    "# to split the train-test data\n",
    "from sklearn.model_selection import train_test_split\n",
    "\n",
    "X = filtered_all;\n",
    "y = upsampled_labels;\n",
    "\n",
    "X_train, X_test, y_train, y_test = train_test_split(X, y,test_size=0.2, random_state = 1, stratify=y)\n",
    "\n",
    "X = torch.from_numpy(X_train).type(torch.FloatTensor)\n",
    "y = torch.from_numpy(y_train).type(torch.LongTensor)\n",
    "\n",
    "X_test = torch.from_numpy(X_test).type(torch.FloatTensor)\n",
    "y_test = torch.from_numpy(y_test).type(torch.LongTensor)\n",
    "\n",
    "#Number of epochs\n",
    "epochs = 65\n",
    "#List to store losses\n",
    "losses = []\n",
    "batch_size = 32;\n",
    "counter = 0;\n",
    "for i in range(epochs):\n",
    "    counter += 1;\n",
    "    #Precit the output for Given input\n",
    "    y_pred = model.forward(X.to(device))\n",
    "    #Compute Cross entropy loss\n",
    "    loss = criterion(y_pred,y.to(device))\n",
    "    #Add loss to the list\n",
    "    losses.append(loss.item())\n",
    "    #Clear the previous gradients\n",
    "    optimizer.zero_grad()\n",
    "    #Compute gradients\n",
    "    loss.backward()\n",
    "    #Adjust weights\n",
    "    optimizer.step()\n",
    "    counter += 1;\n",
    "    if counter % 10 == 0:\n",
    "            temp = loss.data;\n",
    "            print('Epoch [%d/%d],Cross Entropy Loss: %.4f'\n",
    "                 %(i+1, epochs, loss.data))\n",
    "    "
   ]
  },
  {
   "cell_type": "code",
   "execution_count": 15,
   "metadata": {},
   "outputs": [
    {
     "name": "stdout",
     "output_type": "stream",
     "text": [
      "Accuracy Score (Correct pred./all pred.): 0.7222222222222222\n",
      "AUC of ROC: 0.723188194038574\n"
     ]
    },
    {
     "name": "stderr",
     "output_type": "stream",
     "text": [
      "/opt/conda/lib/python3.7/site-packages/ipykernel_launcher.py:53: UserWarning: Implicit dimension choice for log_softmax has been deprecated. Change the call to include dim=X as an argument.\n",
      "/opt/conda/lib/python3.7/site-packages/ipykernel_launcher.py:58: UserWarning: Implicit dimension choice for softmax has been deprecated. Change the call to include dim=X as an argument.\n"
     ]
    }
   ],
   "source": [
    "# to get the accuracy score and AUC\n",
    "from sklearn.metrics import accuracy_score\n",
    "from sklearn.metrics import roc_auc_score\n",
    "\n",
    "\n",
    "print(\"Accuracy Score (Correct pred./all pred.): {}\".format(accuracy_score((model.predict(X_test.to(device))),y_test)))\n",
    "print(\"AUC of ROC: {}\".format(roc_auc_score(y_test, model.predict(X_test.to(device)))))"
   ]
  },
  {
   "cell_type": "markdown",
   "metadata": {},
   "source": [
    "### Training on Upsampled with SMOTE"
   ]
  },
  {
   "cell_type": "code",
   "execution_count": 16,
   "metadata": {},
   "outputs": [
    {
     "name": "stderr",
     "output_type": "stream",
     "text": [
      "/opt/conda/lib/python3.7/site-packages/ipykernel_launcher.py:53: UserWarning: Implicit dimension choice for log_softmax has been deprecated. Change the call to include dim=X as an argument.\n"
     ]
    },
    {
     "name": "stdout",
     "output_type": "stream",
     "text": [
      "Epoch [5/65],Cross Entropy Loss: 0.2800\n",
      "Epoch [10/65],Cross Entropy Loss: 0.4406\n",
      "Epoch [15/65],Cross Entropy Loss: 0.3617\n",
      "Epoch [20/65],Cross Entropy Loss: 0.2583\n",
      "Epoch [25/65],Cross Entropy Loss: 0.1448\n",
      "Epoch [30/65],Cross Entropy Loss: 0.1019\n",
      "Epoch [35/65],Cross Entropy Loss: 0.0791\n",
      "Epoch [40/65],Cross Entropy Loss: 0.0605\n",
      "Epoch [45/65],Cross Entropy Loss: 0.0523\n",
      "Epoch [50/65],Cross Entropy Loss: 0.0473\n",
      "Epoch [55/65],Cross Entropy Loss: 0.0440\n",
      "Epoch [60/65],Cross Entropy Loss: 0.0426\n",
      "Epoch [65/65],Cross Entropy Loss: 0.0417\n"
     ]
    }
   ],
   "source": [
    "#!/usr/bin/env python -W ignore::DeprecationWarning\n",
    "\n",
    "# to split the train-test data\n",
    "from sklearn.model_selection import train_test_split\n",
    "\n",
    "X = filtered_smote;\n",
    "y = y_smote;\n",
    "\n",
    "X_train, X_test, y_train, y_test = train_test_split(X, y,test_size=0.2, random_state = 1, stratify=y)\n",
    "\n",
    "X = torch.from_numpy(X_train).type(torch.FloatTensor)\n",
    "y = torch.from_numpy(y_train).type(torch.LongTensor)\n",
    "\n",
    "X_test = torch.from_numpy(X_test).type(torch.FloatTensor)\n",
    "y_test = torch.from_numpy(y_test).type(torch.LongTensor)\n",
    "\n",
    "#Number of epochs\n",
    "epochs = 65\n",
    "#List to store losses\n",
    "losses = []\n",
    "counter = 0;\n",
    "for i in range(epochs):\n",
    "    counter += 1;\n",
    "    #Precit the output for Given input\n",
    "    y_pred = model.forward(X.to(device))\n",
    "    #Compute Cross entropy loss\n",
    "    loss = criterion(y_pred,y.to(device))\n",
    "    #Add loss to the list\n",
    "    losses.append(loss.item())\n",
    "    #Clear the previous gradients\n",
    "    optimizer.zero_grad()\n",
    "    #Compute gradients\n",
    "    loss.backward()\n",
    "    #Adjust weights\n",
    "    optimizer.step()\n",
    "    counter += 1;\n",
    "    if counter % 10 == 0:\n",
    "            temp = loss.data;\n",
    "            print('Epoch [%d/%d],Cross Entropy Loss: %.4f'\n",
    "                 %(i+1, epochs, loss.data))"
   ]
  },
  {
   "cell_type": "code",
   "execution_count": 17,
   "metadata": {},
   "outputs": [
    {
     "name": "stdout",
     "output_type": "stream",
     "text": [
      "Accuracy Score (Correct pred./all pred.): 0.7415254237288136\n",
      "AUC of ROC: 0.7415254237288135\n"
     ]
    },
    {
     "name": "stderr",
     "output_type": "stream",
     "text": [
      "/opt/conda/lib/python3.7/site-packages/ipykernel_launcher.py:53: UserWarning: Implicit dimension choice for log_softmax has been deprecated. Change the call to include dim=X as an argument.\n",
      "/opt/conda/lib/python3.7/site-packages/ipykernel_launcher.py:58: UserWarning: Implicit dimension choice for softmax has been deprecated. Change the call to include dim=X as an argument.\n"
     ]
    }
   ],
   "source": [
    "# to get the accuracy score and AUC\n",
    "from sklearn.metrics import accuracy_score\n",
    "from sklearn.metrics import roc_auc_score\n",
    "\n",
    "\n",
    "print(\"Accuracy Score (Correct pred./all pred.): {}\".format(accuracy_score((model.predict(X_test.to(device))),y_test)))\n",
    "print(\"AUC of ROC: {}\".format(roc_auc_score(y_test, model.predict(X_test.to(device)))))"
   ]
  },
  {
   "cell_type": "markdown",
   "metadata": {},
   "source": [
    "## Training with SciKit Learn Fully Connected Nerual Nets\n",
    "First on the upsampled data with replacement"
   ]
  },
  {
   "cell_type": "code",
   "execution_count": 18,
   "metadata": {},
   "outputs": [
    {
     "name": "stdout",
     "output_type": "stream",
     "text": [
      "MLPClassifier(activation='relu', alpha=1e-06, batch_size=32, beta_1=0.9,\n",
      "              beta_2=0.999, early_stopping=True, epsilon=1e-08,\n",
      "              hidden_layer_sizes=(32, 128, 64, 256, 32),\n",
      "              learning_rate='adaptive', learning_rate_init=0.001,\n",
      "              max_fun=500000, max_iter=10, momentum=0.0, n_iter_no_change=5,\n",
      "              nesterovs_momentum=True, power_t=0.5, random_state=22,\n",
      "              shuffle=True, solver='adam', tol=0.0001, validation_fraction=0.2,\n",
      "              verbose=1, warm_start=False)\n",
      "Iteration 1, loss = 0.68829654\n",
      "Validation score: 0.716578\n",
      "Iteration 2, loss = 0.31891878\n",
      "Validation score: 0.786096\n",
      "Iteration 3, loss = 0.01021935\n",
      "Validation score: 0.823529\n",
      "Iteration 4, loss = 0.00132622\n",
      "Validation score: 0.834225\n",
      "Iteration 5, loss = 0.00049069\n",
      "Validation score: 0.834225\n",
      "Iteration 6, loss = 0.00032873\n",
      "Validation score: 0.834225\n",
      "Iteration 7, loss = 0.00020618\n",
      "Validation score: 0.834225\n",
      "Iteration 8, loss = 0.00016993\n",
      "Validation score: 0.834225\n",
      "Iteration 9, loss = 0.00013203\n",
      "Validation score: 0.834225\n",
      "Iteration 10, loss = 0.00010673\n",
      "Validation score: 0.834225\n",
      "Validation score did not improve more than tol=0.000100 for 5 consecutive epochs. Stopping.\n",
      "0.8076923076923077\n",
      "[0. 1. 1. 0. 1. 0. 0. 1. 1. 0. 1. 1. 0. 0. 1. 0. 1. 1. 1. 1. 1. 0. 0. 0.\n",
      " 1. 1. 0. 1. 1. 1. 1. 1. 0. 1. 1. 1. 1. 0. 0. 0. 0. 1. 1. 1. 0. 0. 1. 0.\n",
      " 1. 1. 1. 1. 1. 0. 1. 0. 0. 1. 1. 0. 1. 1. 1. 0. 1. 0. 1. 1. 1. 0. 1. 0.\n",
      " 1. 0. 1. 0. 1. 0. 0. 1. 1. 1. 0. 0. 1. 1. 0. 1. 1. 0. 1. 1. 1. 1. 0. 0.\n",
      " 0. 1. 1. 0. 0. 1. 1. 1. 1. 0. 1. 1. 1. 1. 1. 1. 1. 0. 0. 1. 0. 1. 1. 1.\n",
      " 1. 0. 0. 0. 0. 1. 0. 1. 0. 0. 0. 0. 1. 1. 1. 1. 0. 1. 1. 1. 1. 0. 1. 0.\n",
      " 1. 0. 1. 1. 0. 0. 1. 1. 0. 1. 1. 1. 1. 0. 1. 0. 1. 0. 1. 1. 1. 1. 1. 1.\n",
      " 0. 1. 0. 1. 1. 1. 1. 1. 0. 1. 1. 0. 1. 1. 1. 1. 1. 0. 0. 0. 0. 0. 1. 1.\n",
      " 1. 0. 1. 1. 1. 0. 0. 1. 1. 1. 1. 1. 0. 1. 1. 0. 1. 1. 1. 1. 1. 1. 1. 0.\n",
      " 1. 1. 0. 1. 1. 1. 1. 1. 1. 1. 0. 1. 0. 1. 0. 1. 1. 1.]\n",
      "[1. 1. 0. 0. 1. 0. 0. 0. 1. 0. 1. 1. 0. 0. 1. 0. 1. 1. 1. 0. 0. 0. 0. 0.\n",
      " 1. 1. 0. 1. 0. 1. 1. 1. 0. 1. 1. 1. 1. 0. 0. 0. 0. 1. 1. 1. 1. 0. 0. 0.\n",
      " 0. 1. 1. 1. 1. 0. 1. 0. 0. 1. 0. 1. 0. 1. 1. 0. 1. 0. 1. 0. 1. 0. 0. 0.\n",
      " 1. 0. 1. 0. 1. 0. 0. 0. 0. 0. 0. 0. 1. 1. 0. 1. 1. 0. 1. 1. 0. 1. 0. 0.\n",
      " 0. 0. 1. 0. 0. 1. 1. 0. 1. 0. 1. 1. 0. 1. 0. 0. 0. 0. 0. 1. 0. 1. 1. 0.\n",
      " 1. 0. 0. 0. 0. 1. 0. 1. 0. 0. 1. 1. 1. 0. 1. 1. 0. 1. 1. 1. 1. 0. 1. 0.\n",
      " 1. 0. 0. 0. 0. 0. 1. 0. 0. 1. 1. 1. 1. 0. 0. 0. 1. 0. 1. 1. 1. 0. 1. 1.\n",
      " 0. 0. 0. 1. 1. 0. 1. 1. 0. 1. 1. 0. 1. 1. 1. 1. 1. 0. 0. 0. 0. 0. 1. 1.\n",
      " 1. 0. 1. 1. 1. 0. 0. 1. 1. 1. 0. 1. 0. 1. 0. 0. 1. 0. 0. 1. 1. 1. 1. 0.\n",
      " 1. 0. 0. 1. 1. 1. 0. 1. 0. 0. 0. 1. 0. 0. 1. 1. 1. 1.]\n"
     ]
    }
   ],
   "source": [
    "from sklearn.neural_network import MLPClassifier\n",
    "from sklearn import metrics\n",
    "\n",
    "X = upsampled;\n",
    "y = upsampled_labels;\n",
    "\n",
    "X_train, X_test, y_train, y_test = train_test_split(X,y,test_size=0.2,stratify=y,shuffle=True, random_state=22)\n",
    "\n",
    "clf = MLPClassifier(hidden_layer_sizes=(32,128,64,256,32), activation='relu', solver='adam', alpha=0.000001, batch_size=32, learning_rate='adaptive', learning_rate_init=0.001, power_t=0.5, max_iter=10, \n",
    "                                  shuffle=True, random_state=22, tol=0.0001, verbose=1, warm_start=False, momentum=0.0, \n",
    "                                  nesterovs_momentum=True, early_stopping=True, validation_fraction=0.2, beta_1=0.9, beta_2=0.999, \n",
    "                                  epsilon=1e-08, n_iter_no_change=5, max_fun=500000);\n",
    "\n",
    "print(clf)\n",
    "\n",
    "clf.fit(X_train, y_train)\n",
    "score = metrics.accuracy_score(y_test, clf.predict(X_test))\n",
    "print(score)\n",
    "print(clf.predict(X_test))\n",
    "print(y_test)"
   ]
  },
  {
   "cell_type": "code",
   "execution_count": 113,
   "metadata": {},
   "outputs": [
    {
     "name": "stdout",
     "output_type": "stream",
     "text": [
      "AUC Score (Train): 0.966609\n",
      "AUC Score (Test): 0.806473\n",
      "Number true positive: 112\n",
      "Number true negative: 77\n",
      "Number false positive: 39\n",
      "Number false negative: 6\n"
     ]
    }
   ],
   "source": [
    "from sklearn import metrics\n",
    "from sklearn.metrics import confusion_matrix\n",
    "\n",
    "\n",
    "# make predictions for test data\n",
    "y_pred = clf.predict(X_train)\n",
    "print(\"AUC Score (Train): %f\" % metrics.roc_auc_score(y_train, y_pred))\n",
    "\n",
    "\n",
    "# make predictions for test data\n",
    "y_pred = clf.predict(X_test)\n",
    "print(\"AUC Score (Test): %f\" % metrics.roc_auc_score(y_test, y_pred))\n",
    "\n",
    "tn, fp, fn, tp = confusion_matrix(y_test, y_pred).ravel()\n",
    "print(\"Number true positive: \" + str(tp))\n",
    "print(\"Number true negative: \" + str(tn))\n",
    "print(\"Number false positive: \" + str(fp))\n",
    "print(\"Number false negative: \" + str(fn))"
   ]
  },
  {
   "cell_type": "markdown",
   "metadata": {},
   "source": [
    "### Training with the SMOTE Upsampled Data"
   ]
  },
  {
   "cell_type": "code",
   "execution_count": 19,
   "metadata": {},
   "outputs": [
    {
     "name": "stdout",
     "output_type": "stream",
     "text": [
      "Iteration 1, loss = 0.69367620\n",
      "Validation score: 0.654255\n",
      "Iteration 2, loss = 0.52369542\n",
      "Validation score: 0.632979\n",
      "Iteration 3, loss = 0.10990368\n",
      "Validation score: 0.691489\n",
      "Iteration 4, loss = 0.01360342\n",
      "Validation score: 0.686170\n",
      "Iteration 5, loss = 0.00641753\n",
      "Validation score: 0.686170\n",
      "Iteration 6, loss = 0.00243325\n",
      "Validation score: 0.686170\n",
      "Iteration 7, loss = 0.00112260\n",
      "Validation score: 0.691489\n",
      "Iteration 8, loss = 0.00057759\n",
      "Validation score: 0.680851\n",
      "Iteration 9, loss = 0.00037391\n",
      "Validation score: 0.686170\n",
      "Validation score did not improve more than tol=0.000100 for 5 consecutive epochs. Stopping.\n",
      "0.635593220338983\n",
      "[1 1 1 0 1 1 0 0 1 0 0 0 1 1 1 0 1 1 0 0 0 0 1 1 1 0 1 1 1 0 1 1 1 0 1 0 0\n",
      " 0 1 0 1 1 1 0 1 0 1 0 1 1 1 0 0 1 1 1 0 0 0 0 1 1 0 1 0 1 1 1 1 0 0 1 1 0\n",
      " 1 1 1 1 0 0 0 1 0 1 1 1 1 1 0 1 0 1 0 1 1 1 1 1 0 1 0 1 1 1 1 1 1 1 0 0 1\n",
      " 0 1 1 1 0 0 1 1 1 1 0 1 0 0 0 0 0 1 0 0 0 1 0 0 1 1 1 1 0 0 1 0 1 1 0 1 1\n",
      " 1 0 1 0 1 1 1 0 1 1 1 1 1 0 1 1 0 1 1 0 1 1 1 0 1 1 1 1 1 1 0 0 1 0 0 1 1\n",
      " 0 1 0 1 0 0 0 1 1 1 1 1 1 0 0 1 1 1 0 0 0 1 0 1 0 0 1 0 1 0 1 0 0 1 1 1 1\n",
      " 0 0 1 0 1 0 0 1 0 0 0 1 1 0]\n",
      "[1 1 1 0 1 0 0 0 0 0 1 0 1 1 0 0 1 1 0 0 0 1 1 1 1 0 1 1 0 0 1 0 1 0 1 1 0\n",
      " 1 0 0 0 1 0 1 1 0 0 0 1 1 0 0 0 1 1 1 1 0 1 1 1 0 0 1 0 1 0 1 0 0 0 0 0 0\n",
      " 1 1 0 1 0 0 0 0 1 1 1 0 1 0 1 1 1 1 1 0 0 0 1 0 0 1 0 0 1 1 1 1 1 0 0 1 0\n",
      " 0 1 1 0 1 0 0 1 0 0 1 0 0 0 0 1 0 0 0 0 0 1 1 0 1 0 1 1 0 0 1 0 1 0 0 1 0\n",
      " 1 0 1 0 0 1 1 1 1 1 1 1 0 1 0 1 0 1 0 0 0 0 1 0 0 0 1 1 1 1 0 0 0 1 0 1 1\n",
      " 1 0 1 1 0 0 0 1 1 1 1 0 1 0 0 1 1 0 1 1 1 1 1 1 0 1 0 0 0 0 0 1 1 1 0 1 1\n",
      " 1 0 0 1 1 1 0 1 0 1 0 0 1 0]\n"
     ]
    }
   ],
   "source": [
    "X = X_smote;\n",
    "y = y_smote;\n",
    "\n",
    "X_train, X_test, y_train, y_test = train_test_split(X,y,test_size=0.2,stratify=y,shuffle=True, random_state=22)\n",
    "\n",
    "clf = MLPClassifier(hidden_layer_sizes=(32,128,64,256,32), activation='relu', solver='adam', alpha=0.000001, batch_size=32, learning_rate='adaptive', learning_rate_init=0.001, power_t=0.5, max_iter=10, \n",
    "                                  shuffle=True, random_state=22, tol=0.0001, verbose=1, warm_start=False, momentum=0.0, \n",
    "                                  nesterovs_momentum=True, early_stopping=True, validation_fraction=0.2, beta_1=0.9, beta_2=0.999, \n",
    "                                  epsilon=1e-08, n_iter_no_change=5, max_fun=500000);\n",
    "\n",
    "clf.fit(X_train, y_train)\n",
    "score = metrics.accuracy_score(y_test, clf.predict(X_test))\n",
    "print(score)\n",
    "print(clf.predict(X_test))\n",
    "print(y_test)"
   ]
  },
  {
   "cell_type": "code",
   "execution_count": 20,
   "metadata": {},
   "outputs": [
    {
     "name": "stdout",
     "output_type": "stream",
     "text": [
      "AUC Score (Train): 0.935106\n",
      "AUC Score (Test): 0.635593\n",
      "Number true positive: 85\n",
      "Number true negative: 65\n",
      "Number false positive: 53\n",
      "Number false negative: 33\n",
      "AUC of ROC: 0.639603667553978\n"
     ]
    }
   ],
   "source": [
    "from sklearn import metrics\n",
    "from sklearn.metrics import confusion_matrix\n",
    "\n",
    "\n",
    "# make predictions for test data\n",
    "y_pred = clf.predict(X_train)\n",
    "print(\"AUC Score (Train): %f\" % metrics.roc_auc_score(y_train, y_pred))\n",
    "\n",
    "\n",
    "# make predictions for test data\n",
    "y_pred = clf.predict(X_test)\n",
    "print(\"AUC Score (Test): %f\" % metrics.roc_auc_score(y_test, y_pred))\n",
    "\n",
    "tn, fp, fn, tp = confusion_matrix(y_test, y_pred).ravel()\n",
    "print(\"Number true positive: \" + str(tp))\n",
    "print(\"Number true negative: \" + str(tn))\n",
    "print(\"Number false positive: \" + str(fp))\n",
    "print(\"Number false negative: \" + str(fn))\n",
    "\n",
    "print(\"AUC of ROC: {}\".format(roc_auc_score(y_pred,y_test)))\n"
   ]
  },
  {
   "cell_type": "markdown",
   "metadata": {},
   "source": [
    "### Train on the Original Data (Not Upsampled)"
   ]
  },
  {
   "cell_type": "code",
   "execution_count": 21,
   "metadata": {},
   "outputs": [
    {
     "name": "stdout",
     "output_type": "stream",
     "text": [
      "Iteration 1, loss = 0.68711115\n",
      "Validation score: 0.594937\n",
      "Iteration 2, loss = 0.67427892\n",
      "Validation score: 0.594937\n",
      "Iteration 3, loss = 0.67402866\n",
      "Validation score: 0.594937\n",
      "Iteration 4, loss = 0.66787755\n",
      "Validation score: 0.594937\n",
      "Iteration 5, loss = 0.66443183\n",
      "Validation score: 0.594937\n",
      "Iteration 6, loss = 0.66003583\n",
      "Validation score: 0.594937\n",
      "Iteration 7, loss = 0.65500547\n",
      "Validation score: 0.594937\n",
      "Validation score did not improve more than tol=0.000100 for 5 consecutive epochs. Stopping.\n",
      "0.5959595959595959\n",
      "[1 1 1 1 1 1 1 1 1 1 1 1 1 1 1 1 1 1 1 1 1 1 1 1 1 1 1 1 1 1 1 1 1 1 1 1 1\n",
      " 1 1 1 1 1 1 1 1 1 1 1 1 1 1 1 1 1 1 1 1 1 1 1 1 1 1 1 1 1 1 1 1 1 1 1 1 1\n",
      " 1 1 1 1 1 1 1 1 1 1 1 1 1 1 1 1 1 1 1 1 1 1 1 1 1 1 1 1 1 1 1 1 1 1 1 1 1\n",
      " 1 1 1 1 1 1 1 1 1 1 1 1 1 1 1 1 1 1 1 1 1 1 1 1 1 1 1 1 1 1 1 1 1 1 1 1 1\n",
      " 1 1 1 1 1 1 1 1 1 1 1 1 1 1 1 1 1 1 1 1 1 1 1 1 1 1 1 1 1 1 1 1 1 1 1 1 1\n",
      " 1 1 1 1 1 1 1 1 1 1 1 1 1]\n",
      "[1 1 1 1 1 0 0 0 0 0 0 1 1 1 1 1 1 1 0 1 0 1 1 0 1 1 1 1 1 1 0 1 0 1 1 0 0\n",
      " 1 0 1 1 0 0 1 1 1 0 0 0 0 0 1 0 0 1 0 1 0 1 0 0 1 0 1 1 1 0 0 0 1 1 1 1 0\n",
      " 0 0 1 0 1 0 1 1 1 1 0 1 1 1 0 0 1 1 1 1 0 0 1 0 1 1 1 1 1 1 1 0 0 1 1 1 1\n",
      " 0 0 0 1 1 0 1 1 0 1 0 1 1 0 1 1 0 1 1 1 1 0 1 0 1 1 1 0 1 1 0 1 0 1 1 0 1\n",
      " 1 1 1 1 0 0 1 1 1 1 0 1 0 1 1 1 1 1 1 1 0 0 0 0 0 0 0 0 0 0 1 1 1 0 0 1 0\n",
      " 1 0 0 1 1 1 0 0 1 0 1 1 1]\n"
     ]
    }
   ],
   "source": [
    "# shuffle the data first\n",
    "\n",
    "X, y = shuffle(all_data_filtered, all_resp, random_state=7)\n",
    "\n",
    "X_train, X_test, y_train, y_test = train_test_split(X,y,test_size=0.2,stratify=y,shuffle=True, random_state=22)\n",
    "\n",
    "clf = MLPClassifier(hidden_layer_sizes=(32,128,64,256,32), activation='relu', solver='adam', alpha=0.000001, batch_size='auto', learning_rate='adaptive', learning_rate_init=0.001, power_t=0.5, max_iter=10, \n",
    "                                  shuffle=True, random_state=22, tol=0.0001, verbose=1, warm_start=False, momentum=0.0, \n",
    "                                  nesterovs_momentum=True, early_stopping=True, validation_fraction=0.2, beta_1=0.9, beta_2=0.999, \n",
    "                                  epsilon=1e-08, n_iter_no_change=5, max_fun=500000);\n",
    "\n",
    "clf.fit(X_train, y_train)\n",
    "score = metrics.accuracy_score(y_test, clf.predict(X_test))\n",
    "print(score)\n",
    "print(clf.predict(X_test))\n",
    "print(y_test)"
   ]
  },
  {
   "cell_type": "code",
   "execution_count": 22,
   "metadata": {},
   "outputs": [
    {
     "name": "stdout",
     "output_type": "stream",
     "text": [
      "AUC Score (Train): 0.500000\n",
      "AUC Score (Test): 0.500000\n",
      "Number true positive: 118\n",
      "Number true negative: 0\n",
      "Number false positive: 80\n",
      "Number false negative: 0\n"
     ]
    }
   ],
   "source": [
    "from sklearn import metrics\n",
    "from sklearn.metrics import confusion_matrix\n",
    "\n",
    "\n",
    "# make predictions for test data\n",
    "y_pred = clf.predict(X_train)\n",
    "print(\"AUC Score (Train): %f\" % metrics.roc_auc_score(y_train, y_pred))\n",
    "\n",
    "\n",
    "# make predictions for test data\n",
    "y_pred = clf.predict(X_test)\n",
    "print(\"AUC Score (Test): %f\" % metrics.roc_auc_score(y_test, y_pred))\n",
    "\n",
    "tn, fp, fn, tp = confusion_matrix(y_test, y_pred).ravel()\n",
    "print(\"Number true positive: \" + str(tp))\n",
    "print(\"Number true negative: \" + str(tn))\n",
    "print(\"Number false positive: \" + str(fp))\n",
    "print(\"Number false negative: \" + str(fn))"
   ]
  },
  {
   "cell_type": "markdown",
   "metadata": {},
   "source": [
    "As we can see, the upsampling with replacement performs better than SMOTE. As expected and as discussed in the paper, when we do not upsample the minority class the NN is encouraged to guess everyone as responsive, hence having a surge of false positives. This is particularly true in NN and may not be as bad in other machine learning techniques."
   ]
  },
  {
   "cell_type": "markdown",
   "metadata": {},
   "source": [
    "## Training Gradient Boosted Decision Trees\n",
    "\n",
    "Below we have an implementation for XGBoost Decision Tree Ensembles both with the original data with 163 features, and the bootsrapped data. "
   ]
  },
  {
   "cell_type": "markdown",
   "metadata": {},
   "source": [
    "### Original Data with 163 Genes"
   ]
  },
  {
   "cell_type": "code",
   "execution_count": 23,
   "metadata": {},
   "outputs": [
    {
     "data": {
      "text/plain": [
       "XGBClassifier(base_score=0.5, booster='gbtree', colsample_bylevel=1,\n",
       "              colsample_bynode=1, colsample_bytree=0.9, gamma=0,\n",
       "              learning_rate=1, max_delta_step=0, max_depth=3,\n",
       "              min_child_weight=1.0, missing=None, n_estimators=300, n_jobs=1,\n",
       "              nthread=-1, objective='binary:logistic', random_state=0,\n",
       "              reg_alpha=0, reg_lambda=1, scale_pos_weight=1.0, seed=27,\n",
       "              silent=None, subsample=0.9, verbosity=1)"
      ]
     },
     "execution_count": 23,
     "metadata": {},
     "output_type": "execute_result"
    }
   ],
   "source": [
    "from xgboost import XGBClassifier\n",
    "from time import time\n",
    "from sklearn.metrics import confusion_matrix\n",
    "from sklearn.model_selection import train_test_split\n",
    "from sklearn.model_selection import GridSearchCV\n",
    "\n",
    "X = all_data_filtered;\n",
    "Y = all_resp;\n",
    "\n",
    "seed = 7;\n",
    "test_size = 0.3\n",
    "X_train, X_test, y_train, y_test = train_test_split(X, Y, test_size=test_size, random_state=seed)\n",
    "X_train, y_train = filtered_all, upsampled_labels\n",
    "\n",
    "model_OG = XGBClassifier(\n",
    " n_estimators=300,\n",
    " # this is supposed to be 1 for Random Forests\n",
    " learning_rate =1,\n",
    " min_child_weight=1.0,\n",
    " gamma=0,\n",
    " subsample=.9,\n",
    " colsample_bytree=0.9,\n",
    " objective= 'binary:logistic',\n",
    " nthread=-1,\n",
    " scale_pos_weight=1.0,\n",
    " seed=27,\n",
    " verbosity=1)\n",
    "\n",
    "model_OG.fit(X_train,y_train)\n",
    "\n"
   ]
  },
  {
   "cell_type": "code",
   "execution_count": 24,
   "metadata": {},
   "outputs": [
    {
     "name": "stdout",
     "output_type": "stream",
     "text": [
      "Number true positive: 171\n",
      "Number true negative: 95\n",
      "Number false positive: 20\n",
      "Number false negative: 11\n"
     ]
    }
   ],
   "source": [
    "# Once the best model is chosen, test data is run on the model\n",
    "y_pred = model_OG.predict(X_test)\n",
    "tn, fp, fn, tp = confusion_matrix(y_test, y_pred).ravel()\n",
    "print(\"Number true positive: \" + str(tp))\n",
    "print(\"Number true negative: \" + str(tn))\n",
    "print(\"Number false positive: \" + str(fp))\n",
    "print(\"Number false negative: \" + str(fn))"
   ]
  },
  {
   "cell_type": "code",
   "execution_count": 25,
   "metadata": {},
   "outputs": [
    {
     "name": "stdout",
     "output_type": "stream",
     "text": [
      "On the original data set (not Upsampled)\n",
      "Accuracy Score (Correct pred./all pred.): 0.8956228956228957\n",
      "AUC of ROC: 0.8957571866047616\n"
     ]
    }
   ],
   "source": [
    "from sklearn.metrics import accuracy_score\n",
    "from sklearn.metrics import roc_auc_score\n",
    "\n",
    "print(\"On the original data set (not Upsampled)\")\n",
    "print(\"Accuracy Score (Correct pred./all pred.): {}\".format(accuracy_score(y_pred,y_test)))\n",
    "print(\"AUC of ROC: {}\".format(roc_auc_score(y_pred,y_test)))"
   ]
  },
  {
   "cell_type": "markdown",
   "metadata": {},
   "source": [
    "### With Upsampled Data and 163 Genes"
   ]
  },
  {
   "cell_type": "code",
   "execution_count": 26,
   "metadata": {},
   "outputs": [
    {
     "data": {
      "text/plain": [
       "XGBClassifier(base_score=0.5, booster='gbtree', colsample_bylevel=1,\n",
       "              colsample_bynode=1, colsample_bytree=0.9, gamma=0,\n",
       "              learning_rate=1, max_delta_step=0, max_depth=3,\n",
       "              min_child_weight=1.0, missing=None, n_estimators=300, n_jobs=1,\n",
       "              nthread=-1, objective='binary:logistic', random_state=0,\n",
       "              reg_alpha=0, reg_lambda=1, scale_pos_weight=1.0, seed=27,\n",
       "              silent=None, subsample=0.9, verbosity=1)"
      ]
     },
     "execution_count": 26,
     "metadata": {},
     "output_type": "execute_result"
    }
   ],
   "source": [
    "from xgboost import XGBClassifier\n",
    "from time import time\n",
    "from sklearn.metrics import confusion_matrix\n",
    "from sklearn.model_selection import train_test_split\n",
    "from sklearn.model_selection import GridSearchCV\n",
    "\n",
    "X = filtered_all;\n",
    "Y = upsampled_labels;\n",
    "\n",
    "seed = 7;\n",
    "test_size = 0.3\n",
    "X_train, X_test, y_train, y_test = train_test_split(X, Y, test_size=test_size, random_state=seed)\n",
    "X_train, y_train = filtered_all, upsampled_labels\n",
    "\n",
    "model_up = XGBClassifier(\n",
    " n_estimators=300,\n",
    " learning_rate =1,\n",
    " min_child_weight=1.0,\n",
    " gamma=0,\n",
    " subsample=.9,\n",
    " colsample_bytree=0.9,\n",
    " objective= 'binary:logistic',\n",
    " nthread=-1,\n",
    " scale_pos_weight=1.0,\n",
    " seed=27,\n",
    " verbosity=1)\n",
    "\n",
    "model_up.fit(X_train,y_train)\n",
    "\n",
    "\n"
   ]
  },
  {
   "cell_type": "code",
   "execution_count": 27,
   "metadata": {},
   "outputs": [
    {
     "name": "stdout",
     "output_type": "stream",
     "text": [
      "Number true positive: 176\n",
      "Number true negative: 166\n",
      "Number false positive: 5\n",
      "Number false negative: 4\n"
     ]
    }
   ],
   "source": [
    "# Once the best model is chosen, test data is run on the model\n",
    "y_pred = model_up.predict(X_test)\n",
    "tn, fp, fn, tp = confusion_matrix(y_test, y_pred).ravel()\n",
    "print(\"Number true positive: \" + str(tp))\n",
    "print(\"Number true negative: \" + str(tn))\n",
    "print(\"Number false positive: \" + str(fp))\n",
    "print(\"Number false negative: \" + str(fn))"
   ]
  },
  {
   "cell_type": "code",
   "execution_count": 28,
   "metadata": {},
   "outputs": [
    {
     "name": "stdout",
     "output_type": "stream",
     "text": [
      "On the upsampled (bootsrapped) data\n",
      "Accuracy Score (Correct pred./all pred.): 0.9743589743589743\n",
      "AUC of ROC: 0.9744231394215144\n"
     ]
    }
   ],
   "source": [
    "print(\"On the upsampled (bootsrapped) data\")\n",
    "print(\"Accuracy Score (Correct pred./all pred.): {}\".format(accuracy_score(y_pred,y_test)))\n",
    "print(\"AUC of ROC: {}\".format(roc_auc_score(y_pred,y_test)))"
   ]
  },
  {
   "cell_type": "markdown",
   "metadata": {},
   "source": [
    "### Upsampled with SMOTE "
   ]
  },
  {
   "cell_type": "code",
   "execution_count": 29,
   "metadata": {},
   "outputs": [
    {
     "data": {
      "text/plain": [
       "XGBClassifier(base_score=0.5, booster='gbtree', colsample_bylevel=1,\n",
       "              colsample_bynode=1, colsample_bytree=0.9, gamma=0,\n",
       "              learning_rate=0.01, max_delta_step=0, max_depth=3,\n",
       "              min_child_weight=1.0, missing=None, n_estimators=300, n_jobs=1,\n",
       "              nthread=-1, objective='binary:logistic', random_state=0,\n",
       "              reg_alpha=0, reg_lambda=1, scale_pos_weight=1.0, seed=27,\n",
       "              silent=None, subsample=0.99, verbosity=1)"
      ]
     },
     "execution_count": 29,
     "metadata": {},
     "output_type": "execute_result"
    }
   ],
   "source": [
    "X = X_smote;\n",
    "Y = y_smote;\n",
    "\n",
    "seed = 7;\n",
    "test_size = 0.2\n",
    "X_train, X_test, y_train, y_test = train_test_split(X, Y, test_size=test_size, random_state=seed)\n",
    "X_train, y_train = X_smote,y_smote;\n",
    "\n",
    "model_smote = XGBClassifier(\n",
    " n_estimators=300,\n",
    " learning_rate =0.01,\n",
    " min_child_weight=1.0,\n",
    " gamma=0,\n",
    " subsample=.99,\n",
    " colsample_bytree=0.9,\n",
    " objective= 'binary:logistic',\n",
    " nthread=-1,\n",
    " scale_pos_weight=1.0,\n",
    " seed=27,\n",
    " verbosity=1)\n",
    "\n",
    "model_smote.fit(X_train,y_train)\n",
    "\n"
   ]
  },
  {
   "cell_type": "code",
   "execution_count": 30,
   "metadata": {},
   "outputs": [
    {
     "name": "stdout",
     "output_type": "stream",
     "text": [
      "Number true positive: 71\n",
      "Number true negative: 110\n",
      "Number false positive: 6\n",
      "Number false negative: 49\n"
     ]
    }
   ],
   "source": [
    "# Once the best model is chosen, test data is run on the model\n",
    "y_pred = model_smote.predict(X_test)\n",
    "tn, fp, fn, tp = confusion_matrix(y_test, y_pred).ravel()\n",
    "print(\"Number true positive: \" + str(tp))\n",
    "print(\"Number true negative: \" + str(tn))\n",
    "print(\"Number false positive: \" + str(fp))\n",
    "print(\"Number false negative: \" + str(fn))"
   ]
  },
  {
   "cell_type": "code",
   "execution_count": 31,
   "metadata": {},
   "outputs": [
    {
     "name": "stdout",
     "output_type": "stream",
     "text": [
      "On the upsampled (bootsrapped) data\n",
      "Accuracy Score (Correct pred./all pred.): 0.7669491525423728\n",
      "AUC of ROC: 0.8069509107244957\n"
     ]
    }
   ],
   "source": [
    "print(\"On the upsampled (bootsrapped) data\")\n",
    "print(\"Accuracy Score (Correct pred./all pred.): {}\".format(accuracy_score(y_pred,y_test)))\n",
    "print(\"AUC of ROC: {}\".format(roc_auc_score(y_pred,y_test)))"
   ]
  },
  {
   "cell_type": "code",
   "execution_count": 32,
   "metadata": {},
   "outputs": [
    {
     "name": "stdout",
     "output_type": "stream",
     "text": [
      "On the upsampled SMOTE data\n",
      "Accuracy Score (Correct pred./all pred.): 0.7669491525423728\n",
      "AUC of ROC: 0.8069509107244957\n"
     ]
    }
   ],
   "source": [
    "print(\"On the upsampled SMOTE data\")\n",
    "print(\"Accuracy Score (Correct pred./all pred.): {}\".format(accuracy_score(y_pred,y_test)))\n",
    "print(\"AUC of ROC: {}\".format(roc_auc_score(y_pred,y_test)))"
   ]
  },
  {
   "cell_type": "markdown",
   "metadata": {},
   "source": [
    "Plotting the original data's feature importance and getting the top indecies"
   ]
  },
  {
   "cell_type": "code",
   "execution_count": 34,
   "metadata": {},
   "outputs": [
    {
     "data": {
      "image/png": "[encoded data removed]",
      "text/plain": [
       "<Figure size 432x288 with 1 Axes>"
      ]
     },
     "metadata": {
      "needs_background": "light"
     },
     "output_type": "display_data"
    }
   ],
   "source": [
    "# Now to look at feature importance!\n",
    "from matplotlib import pyplot\n",
    "genes_og = model_OG.feature_importances_;\n",
    "# print(model_OG.feature_importances_)\n",
    "# plot\n",
    "pyplot.bar(range(len(model_OG.feature_importances_)), model_OG.feature_importances_)\n",
    "pyplot.ylabel('Importance Percentage')\n",
    "pyplot.xlabel('Gene Indecies')\n",
    "pyplot.title('Gene Importance for Original Data')\n",
    "pyplot.savefig('OG_geneImportance.png',dpi=720)\n",
    "pyplot.show()"
   ]
  },
  {
   "cell_type": "code",
   "execution_count": 35,
   "metadata": {},
   "outputs": [
    {
     "data": {
      "image/png": "[encoded data removed]",
      "text/plain": [
       "<Figure size 432x288 with 1 Axes>"
      ]
     },
     "metadata": {
      "needs_background": "light"
     },
     "output_type": "display_data"
    }
   ],
   "source": [
    "# Now to look at feature importance!\n",
    "from matplotlib import pyplot\n",
    "genes_upsampled = model_up.feature_importances_;\n",
    "# print(model_up.feature_importances_)\n",
    "\n",
    "# plot\n",
    "pyplot.bar(range(len(model_up.feature_importances_)), model_up.feature_importances_)\n",
    "pyplot.ylabel('Importance Percentage')\n",
    "pyplot.xlabel('Gene Indecies')\n",
    "pyplot.title('Gene Importance for Upsampled Data')\n",
    "pyplot.savefig('UP_geneImportance.png',dpi=720)\n",
    "pyplot.show()"
   ]
  },
  {
   "cell_type": "markdown",
   "metadata": {},
   "source": [
    "These are good results! Specially that we can see that bootstrapping reduced the number of false positives!"
   ]
  },
  {
   "cell_type": "markdown",
   "metadata": {},
   "source": [
    "We will also create a mapping between the index and the gene names, which will be useful later for studying feature importance and Gene Set Enrichment Analysis"
   ]
  },
  {
   "cell_type": "code",
   "execution_count": 36,
   "metadata": {},
   "outputs": [
    {
     "name": "stdout",
     "output_type": "stream",
     "text": [
      "['KIAA1524' 'ITGA6' 'AOX1' 'SH3PXD2B' 'NGFR' 'TPR' 'MROH2B' 'HBS1L' 'ILF2'\n",
      " 'ATAD2B' 'DCST1' 'ATP1A3' 'ADSL' 'ATIC' 'COBLL1' 'ANKHD1-EIF4EBP3'\n",
      " 'DOCK7' 'SPHKAP' 'LRP2' 'GATA3' 'CEP72' 'PTPRM' 'CRHR2' 'FAM74A1'\n",
      " 'TMEM167B' 'PCGF5' 'NTPCR' 'ABT1' 'SLC25A16' 'ADAM10' 'ZNF587B'\n",
      " 'C18orf54' 'MIR16-1' 'MRPL54' 'LINC00477' 'HLX' 'C6orf136' 'TTC39A'\n",
      " 'BSCL2' 'SLC26A9' 'TATDN1' 'MEN1' 'SCFD1' 'PDZRN3' 'METTL2B' 'SEC16A'\n",
      " 'OR52E4' 'RRN3P2' 'MAP4K4' 'PSEN2' 'POP1' 'CAND1' 'KIF1C' 'UBE4A' 'NSL1'\n",
      " 'TRPM7' 'AARS' 'PHLDB1' 'TNR' 'CPXM1' 'CNTRL' 'KCTD3' 'ITGB7' 'ZNF547'\n",
      " 'MALAT1' 'PRRC1' 'INSIG2' 'TTBK2' 'DOC2A' 'PTPN12' 'MAPK10' 'PRKD2'\n",
      " 'CBLB' 'BCKDK' 'MUC2' 'CA9' 'POTEB3' 'CH17-140K24.8' 'CYP20A1' 'TNFRSF8'\n",
      " 'ABCA7' 'FBLN5' 'ZBTB24' 'TAF3' 'ZFYVE16' 'MUC16' 'ROR1' 'RPRD1B'\n",
      " 'ACVR2A' 'OLFML3' 'PKD1L1' 'OR5B2' 'WIPI2' 'ZFPM2' 'PRSS53' 'XRCC6BP1'\n",
      " 'STRN3' 'ANKRD11' 'LONRF2' 'NT5DC3']\n"
     ]
    }
   ],
   "source": [
    "top_100_genes_up = np.argsort(genes_upsampled)[-100:]\n",
    "top_100_genes_og = np.argsort(genes_og)[-100:]\n",
    "gene_weight_upsampled = np.take(genes_upsampled, top_100_genes_up, 0);\n",
    "\n",
    "\n",
    "selected_genes = np.take(genes, top_100_genes_up, 0);\n",
    "# print(selected_genes)\n",
    "print(selected_genes)"
   ]
  },
  {
   "cell_type": "markdown",
   "metadata": {},
   "source": [
    "Now we save the list as a string array : "
   ]
  },
  {
   "cell_type": "code",
   "execution_count": 37,
   "metadata": {},
   "outputs": [],
   "source": [
    "gene_list = ['KIAA1524' 'ITGA6' 'AOX1' 'SH3PXD2B' 'NGFR' 'TPR' 'MROH2B' 'HBS1L' 'ILF2'\n",
    " 'ATAD2B' 'DCST1' 'ATP1A3' 'ADSL' 'ATIC' 'COBLL1' 'ANKHD1-EIF4EBP3'\n",
    " 'DOCK7' 'SPHKAP' 'LRP2' 'GATA3' 'CEP72' 'PTPRM' 'CRHR2' 'FAM74A1'\n",
    " 'TMEM167B' 'PCGF5' 'NTPCR' 'ABT1' 'SLC25A16' 'ADAM10' 'ZNF587B'\n",
    " 'C18orf54' 'MIR16-1' 'MRPL54' 'LINC00477' 'HLX' 'C6orf136' 'TTC39A'\n",
    " 'BSCL2' 'SLC26A9' 'TATDN1' 'MEN1' 'SCFD1' 'PDZRN3' 'METTL2B' 'SEC16A'\n",
    " 'OR52E4' 'RRN3P2' 'MAP4K4' 'PSEN2' 'POP1' 'CAND1' 'KIF1C' 'UBE4A' 'NSL1'\n",
    " 'TRPM7' 'AARS' 'PHLDB1' 'TNR' 'CPXM1' 'CNTRL' 'KCTD3' 'ITGB7' 'ZNF547'\n",
    " 'MALAT1' 'PRRC1' 'INSIG2' 'TTBK2' 'DOC2A' 'PTPN12' 'MAPK10' 'PRKD2'\n",
    " 'CBLB' 'BCKDK' 'MUC2' 'CA9' 'POTEB3' 'CH17-140K24.8' 'CYP20A1' 'TNFRSF8'\n",
    " 'ABCA7' 'FBLN5' 'ZBTB24' 'TAF3' 'ZFYVE16' 'MUC16' 'ROR1' 'RPRD1B'\n",
    " 'ACVR2A' 'OLFML3' 'PKD1L1' 'OR5B2' 'WIPI2' 'ZFPM2' 'PRSS53' 'XRCC6BP1'\n",
    " 'STRN3' 'ANKRD11' 'LONRF2' 'NT5DC3']"
   ]
  },
  {
   "cell_type": "markdown",
   "metadata": {},
   "source": [
    "And to have a list of all the genes : "
   ]
  },
  {
   "cell_type": "code",
   "execution_count": 38,
   "metadata": {},
   "outputs": [
    {
     "name": "stdout",
     "output_type": "stream",
     "text": [
      "KIAA1524\n",
      "ITGA6\n",
      "AOX1\n",
      "SH3PXD2B\n",
      "NGFR\n",
      "TPR\n",
      "MROH2B\n",
      "HBS1L\n",
      "ILF2\n",
      "ATAD2B\n",
      "DCST1\n",
      "ATP1A3\n",
      "ADSL\n",
      "ATIC\n",
      "COBLL1\n",
      "ANKHD1-EIF4EBP3\n",
      "DOCK7\n",
      "SPHKAP\n",
      "LRP2\n",
      "GATA3\n",
      "CEP72\n",
      "PTPRM\n",
      "CRHR2\n",
      "FAM74A1\n",
      "TMEM167B\n",
      "PCGF5\n",
      "NTPCR\n",
      "ABT1\n",
      "SLC25A16\n",
      "ADAM10\n",
      "ZNF587B\n",
      "C18orf54\n",
      "MIR16-1\n",
      "MRPL54\n",
      "LINC00477\n",
      "HLX\n",
      "C6orf136\n",
      "TTC39A\n",
      "BSCL2\n",
      "SLC26A9\n",
      "TATDN1\n",
      "MEN1\n",
      "SCFD1\n",
      "PDZRN3\n",
      "METTL2B\n",
      "SEC16A\n",
      "OR52E4\n",
      "RRN3P2\n",
      "MAP4K4\n",
      "PSEN2\n",
      "POP1\n",
      "CAND1\n",
      "KIF1C\n",
      "UBE4A\n",
      "NSL1\n",
      "TRPM7\n",
      "AARS\n",
      "PHLDB1\n",
      "TNR\n",
      "CPXM1\n",
      "CNTRL\n",
      "KCTD3\n",
      "ITGB7\n",
      "ZNF547\n",
      "MALAT1\n",
      "PRRC1\n",
      "INSIG2\n",
      "TTBK2\n",
      "DOC2A\n",
      "PTPN12\n",
      "MAPK10\n",
      "PRKD2\n",
      "CBLB\n",
      "BCKDK\n",
      "MUC2\n",
      "CA9\n",
      "POTEB3\n",
      "CH17-140K24.8\n",
      "CYP20A1\n",
      "TNFRSF8\n",
      "ABCA7\n",
      "FBLN5\n",
      "ZBTB24\n",
      "TAF3\n",
      "ZFYVE16\n",
      "MUC16\n",
      "ROR1\n",
      "RPRD1B\n",
      "ACVR2A\n",
      "OLFML3\n",
      "PKD1L1\n",
      "OR5B2\n",
      "WIPI2\n",
      "ZFPM2\n",
      "PRSS53\n",
      "XRCC6BP1\n",
      "STRN3\n",
      "ANKRD11\n",
      "LONRF2\n",
      "NT5DC3\n"
     ]
    }
   ],
   "source": [
    "for i in range(len(selected_genes)):\n",
    "    print(\"{}\".format(selected_genes[i]))"
   ]
  },
  {
   "cell_type": "markdown",
   "metadata": {},
   "source": [
    "# Gene Set Analysis\n",
    "First we want to perform the gene set enrichment analysis. We must have a ranked list of genes in order to use GSEA, so we will use the feature importance as a ranking of the genes. In the next section we will use Enrichr, which does not require a ranked list."
   ]
  },
  {
   "cell_type": "code",
   "execution_count": 39,
   "metadata": {},
   "outputs": [
    {
     "data": {
      "text/html": [
       "<div>\n",
       "<style scoped>\n",
       "    .dataframe tbody tr th:only-of-type {\n",
       "        vertical-align: middle;\n",
       "    }\n",
       "\n",
       "    .dataframe tbody tr th {\n",
       "        vertical-align: top;\n",
       "    }\n",
       "\n",
       "    .dataframe thead th {\n",
       "        text-align: right;\n",
       "    }\n",
       "</style>\n",
       "<table border=\"1\" class=\"dataframe\">\n",
       "  <thead>\n",
       "    <tr style=\"text-align: right;\">\n",
       "      <th></th>\n",
       "      <th>col1</th>\n",
       "      <th>col2</th>\n",
       "    </tr>\n",
       "  </thead>\n",
       "  <tbody>\n",
       "    <tr>\n",
       "      <th>0</th>\n",
       "      <td>KIAA1524</td>\n",
       "      <td>0.004483</td>\n",
       "    </tr>\n",
       "    <tr>\n",
       "      <th>1</th>\n",
       "      <td>ITGA6</td>\n",
       "      <td>0.004588</td>\n",
       "    </tr>\n",
       "    <tr>\n",
       "      <th>2</th>\n",
       "      <td>AOX1</td>\n",
       "      <td>0.004598</td>\n",
       "    </tr>\n",
       "    <tr>\n",
       "      <th>3</th>\n",
       "      <td>SH3PXD2B</td>\n",
       "      <td>0.004638</td>\n",
       "    </tr>\n",
       "    <tr>\n",
       "      <th>4</th>\n",
       "      <td>NGFR</td>\n",
       "      <td>0.004662</td>\n",
       "    </tr>\n",
       "    <tr>\n",
       "      <th>5</th>\n",
       "      <td>TPR</td>\n",
       "      <td>0.004702</td>\n",
       "    </tr>\n",
       "    <tr>\n",
       "      <th>6</th>\n",
       "      <td>MROH2B</td>\n",
       "      <td>0.004724</td>\n",
       "    </tr>\n",
       "    <tr>\n",
       "      <th>7</th>\n",
       "      <td>HBS1L</td>\n",
       "      <td>0.004784</td>\n",
       "    </tr>\n",
       "    <tr>\n",
       "      <th>8</th>\n",
       "      <td>ILF2</td>\n",
       "      <td>0.004810</td>\n",
       "    </tr>\n",
       "    <tr>\n",
       "      <th>9</th>\n",
       "      <td>ATAD2B</td>\n",
       "      <td>0.004812</td>\n",
       "    </tr>\n",
       "    <tr>\n",
       "      <th>10</th>\n",
       "      <td>DCST1</td>\n",
       "      <td>0.004824</td>\n",
       "    </tr>\n",
       "    <tr>\n",
       "      <th>11</th>\n",
       "      <td>ATP1A3</td>\n",
       "      <td>0.004893</td>\n",
       "    </tr>\n",
       "    <tr>\n",
       "      <th>12</th>\n",
       "      <td>ADSL</td>\n",
       "      <td>0.004923</td>\n",
       "    </tr>\n",
       "    <tr>\n",
       "      <th>13</th>\n",
       "      <td>ATIC</td>\n",
       "      <td>0.004940</td>\n",
       "    </tr>\n",
       "    <tr>\n",
       "      <th>14</th>\n",
       "      <td>COBLL1</td>\n",
       "      <td>0.004946</td>\n",
       "    </tr>\n",
       "    <tr>\n",
       "      <th>15</th>\n",
       "      <td>ANKHD1-EIF4EBP3</td>\n",
       "      <td>0.004985</td>\n",
       "    </tr>\n",
       "    <tr>\n",
       "      <th>16</th>\n",
       "      <td>DOCK7</td>\n",
       "      <td>0.005095</td>\n",
       "    </tr>\n",
       "    <tr>\n",
       "      <th>17</th>\n",
       "      <td>SPHKAP</td>\n",
       "      <td>0.005108</td>\n",
       "    </tr>\n",
       "    <tr>\n",
       "      <th>18</th>\n",
       "      <td>LRP2</td>\n",
       "      <td>0.005255</td>\n",
       "    </tr>\n",
       "    <tr>\n",
       "      <th>19</th>\n",
       "      <td>GATA3</td>\n",
       "      <td>0.005261</td>\n",
       "    </tr>\n",
       "  </tbody>\n",
       "</table>\n",
       "</div>"
      ],
      "text/plain": [
       "               col1      col2\n",
       "0          KIAA1524  0.004483\n",
       "1             ITGA6  0.004588\n",
       "2              AOX1  0.004598\n",
       "3          SH3PXD2B  0.004638\n",
       "4              NGFR  0.004662\n",
       "5               TPR  0.004702\n",
       "6            MROH2B  0.004724\n",
       "7             HBS1L  0.004784\n",
       "8              ILF2  0.004810\n",
       "9            ATAD2B  0.004812\n",
       "10            DCST1  0.004824\n",
       "11           ATP1A3  0.004893\n",
       "12             ADSL  0.004923\n",
       "13             ATIC  0.004940\n",
       "14           COBLL1  0.004946\n",
       "15  ANKHD1-EIF4EBP3  0.004985\n",
       "16            DOCK7  0.005095\n",
       "17           SPHKAP  0.005108\n",
       "18             LRP2  0.005255\n",
       "19            GATA3  0.005261"
      ]
     },
     "execution_count": 39,
     "metadata": {},
     "output_type": "execute_result"
    }
   ],
   "source": [
    "# put the genes and weights in a dataframe\n",
    "gene_weight = {'col1': selected_genes, 'col2': gene_weight_upsampled}\n",
    "weights_df = pd.DataFrame(data=gene_weight)\n",
    "weights_df.head(20)\n"
   ]
  },
  {
   "cell_type": "code",
   "execution_count": 40,
   "metadata": {},
   "outputs": [],
   "source": [
    "import gseapy as gp\n",
    "# perform gsea in parallel (processes=-1) and save the results as png\n",
    "pre_res = gp.prerank(rnk=weights_df, gene_sets='KEGG_2016',\n",
    "                     processes=-1,\n",
    "                     permutation_num=100,\n",
    "                     min_size=3,# reduce number to speed up testing\n",
    "                     outdir='GSEA/prerank_report_kegg', format='png')"
   ]
  },
  {
   "cell_type": "code",
   "execution_count": 41,
   "metadata": {},
   "outputs": [
    {
     "data": {
      "text/html": [
       "<div>\n",
       "<style scoped>\n",
       "    .dataframe tbody tr th:only-of-type {\n",
       "        vertical-align: middle;\n",
       "    }\n",
       "\n",
       "    .dataframe tbody tr th {\n",
       "        vertical-align: top;\n",
       "    }\n",
       "\n",
       "    .dataframe thead th {\n",
       "        text-align: right;\n",
       "    }\n",
       "</style>\n",
       "<table border=\"1\" class=\"dataframe\">\n",
       "  <thead>\n",
       "    <tr style=\"text-align: right;\">\n",
       "      <th></th>\n",
       "      <th>es</th>\n",
       "      <th>nes</th>\n",
       "      <th>pval</th>\n",
       "      <th>fdr</th>\n",
       "      <th>geneset_size</th>\n",
       "      <th>matched_size</th>\n",
       "      <th>genes</th>\n",
       "      <th>ledge_genes</th>\n",
       "    </tr>\n",
       "    <tr>\n",
       "      <th>Term</th>\n",
       "      <th></th>\n",
       "      <th></th>\n",
       "      <th></th>\n",
       "      <th></th>\n",
       "      <th></th>\n",
       "      <th></th>\n",
       "      <th></th>\n",
       "      <th></th>\n",
       "    </tr>\n",
       "  </thead>\n",
       "  <tbody>\n",
       "    <tr>\n",
       "      <th>Metabolic pathways_Homo sapiens_hsa01100</th>\n",
       "      <td>-0.760417</td>\n",
       "      <td>-5.274617</td>\n",
       "      <td>0.000000</td>\n",
       "      <td>0.018223</td>\n",
       "      <td>1239</td>\n",
       "      <td>4</td>\n",
       "      <td>NTPCR;ATIC;ADSL;AOX1</td>\n",
       "      <td>NTPCR;ATIC;ADSL;AOX1</td>\n",
       "    </tr>\n",
       "    <tr>\n",
       "      <th>Purine metabolism_Homo sapiens_hsa00230</th>\n",
       "      <td>-0.752577</td>\n",
       "      <td>-4.353439</td>\n",
       "      <td>0.000000</td>\n",
       "      <td>0.200456</td>\n",
       "      <td>176</td>\n",
       "      <td>3</td>\n",
       "      <td>NTPCR;ATIC;ADSL</td>\n",
       "      <td>NTPCR;ATIC;ADSL</td>\n",
       "    </tr>\n",
       "    <tr>\n",
       "      <th>ECM-receptor interaction_Homo sapiens_hsa04512</th>\n",
       "      <td>-0.381443</td>\n",
       "      <td>-2.469769</td>\n",
       "      <td>0.727273</td>\n",
       "      <td>0.753227</td>\n",
       "      <td>82</td>\n",
       "      <td>3</td>\n",
       "      <td>ITGB7;TNR;ITGA6</td>\n",
       "      <td>ITGB7;TNR;ITGA6</td>\n",
       "    </tr>\n",
       "    <tr>\n",
       "      <th>Focal adhesion_Homo sapiens_hsa04510</th>\n",
       "      <td>0.423455</td>\n",
       "      <td>1.441106</td>\n",
       "      <td>0.683333</td>\n",
       "      <td>0.802453</td>\n",
       "      <td>202</td>\n",
       "      <td>4</td>\n",
       "      <td>MAPK10;ITGB7;TNR;ITGA6</td>\n",
       "      <td>MAPK10;ITGB7;TNR</td>\n",
       "    </tr>\n",
       "    <tr>\n",
       "      <th>Transcriptional misregulation in cancer_Homo sapiens_hsa05202</th>\n",
       "      <td>-0.381443</td>\n",
       "      <td>-2.070181</td>\n",
       "      <td>0.666667</td>\n",
       "      <td>0.859095</td>\n",
       "      <td>180</td>\n",
       "      <td>3</td>\n",
       "      <td>ITGB7;MEN1;NGFR</td>\n",
       "      <td>ITGB7;MEN1;NGFR</td>\n",
       "    </tr>\n",
       "    <tr>\n",
       "      <th>Mineral absorption_Homo sapiens_hsa04978</th>\n",
       "      <td>-0.453608</td>\n",
       "      <td>-2.520322</td>\n",
       "      <td>0.425000</td>\n",
       "      <td>0.874715</td>\n",
       "      <td>51</td>\n",
       "      <td>3</td>\n",
       "      <td>TRPM7;SLC26A9;ATP1A3</td>\n",
       "      <td>TRPM7;SLC26A9;ATP1A3</td>\n",
       "    </tr>\n",
       "    <tr>\n",
       "      <th>Pathways in cancer_Homo sapiens_hsa05200</th>\n",
       "      <td>0.343783</td>\n",
       "      <td>1.055386</td>\n",
       "      <td>0.838235</td>\n",
       "      <td>0.883049</td>\n",
       "      <td>397</td>\n",
       "      <td>4</td>\n",
       "      <td>CBLB;MAPK10;TPR;ITGA6</td>\n",
       "      <td>CBLB;MAPK10</td>\n",
       "    </tr>\n",
       "    <tr>\n",
       "      <th>Neurotrophin signaling pathway_Homo sapiens_hsa04722</th>\n",
       "      <td>-0.298969</td>\n",
       "      <td>-1.625421</td>\n",
       "      <td>0.875000</td>\n",
       "      <td>0.936219</td>\n",
       "      <td>120</td>\n",
       "      <td>3</td>\n",
       "      <td>MAPK10;PSEN2;NGFR</td>\n",
       "      <td>MAPK10;PSEN2;NGFR</td>\n",
       "    </tr>\n",
       "    <tr>\n",
       "      <th>Cytokine-cytokine receptor interaction_Homo sapiens_hsa04060</th>\n",
       "      <td>0.623684</td>\n",
       "      <td>1.886964</td>\n",
       "      <td>0.222222</td>\n",
       "      <td>0.967148</td>\n",
       "      <td>265</td>\n",
       "      <td>3</td>\n",
       "      <td>ACVR2A;TNFRSF8;NGFR</td>\n",
       "      <td>ACVR2A;TNFRSF8</td>\n",
       "    </tr>\n",
       "    <tr>\n",
       "      <th>MicroRNAs in cancer_Homo sapiens_hsa05206</th>\n",
       "      <td>0.473430</td>\n",
       "      <td>1.462132</td>\n",
       "      <td>0.530303</td>\n",
       "      <td>1.000000</td>\n",
       "      <td>297</td>\n",
       "      <td>3</td>\n",
       "      <td>ZFPM2;TNR;MIR16-1</td>\n",
       "      <td>ZFPM2</td>\n",
       "    </tr>\n",
       "  </tbody>\n",
       "</table>\n",
       "</div>"
      ],
      "text/plain": [
       "                                                          es       nes  \\\n",
       "Term                                                                     \n",
       "Metabolic pathways_Homo sapiens_hsa01100           -0.760417 -5.274617   \n",
       "Purine metabolism_Homo sapiens_hsa00230            -0.752577 -4.353439   \n",
       "ECM-receptor interaction_Homo sapiens_hsa04512     -0.381443 -2.469769   \n",
       "Focal adhesion_Homo sapiens_hsa04510                0.423455  1.441106   \n",
       "Transcriptional misregulation in cancer_Homo sa... -0.381443 -2.070181   \n",
       "Mineral absorption_Homo sapiens_hsa04978           -0.453608 -2.520322   \n",
       "Pathways in cancer_Homo sapiens_hsa05200            0.343783  1.055386   \n",
       "Neurotrophin signaling pathway_Homo sapiens_hsa... -0.298969 -1.625421   \n",
       "Cytokine-cytokine receptor interaction_Homo sap...  0.623684  1.886964   \n",
       "MicroRNAs in cancer_Homo sapiens_hsa05206           0.473430  1.462132   \n",
       "\n",
       "                                                        pval       fdr  \\\n",
       "Term                                                                     \n",
       "Metabolic pathways_Homo sapiens_hsa01100            0.000000  0.018223   \n",
       "Purine metabolism_Homo sapiens_hsa00230             0.000000  0.200456   \n",
       "ECM-receptor interaction_Homo sapiens_hsa04512      0.727273  0.753227   \n",
       "Focal adhesion_Homo sapiens_hsa04510                0.683333  0.802453   \n",
       "Transcriptional misregulation in cancer_Homo sa...  0.666667  0.859095   \n",
       "Mineral absorption_Homo sapiens_hsa04978            0.425000  0.874715   \n",
       "Pathways in cancer_Homo sapiens_hsa05200            0.838235  0.883049   \n",
       "Neurotrophin signaling pathway_Homo sapiens_hsa...  0.875000  0.936219   \n",
       "Cytokine-cytokine receptor interaction_Homo sap...  0.222222  0.967148   \n",
       "MicroRNAs in cancer_Homo sapiens_hsa05206           0.530303  1.000000   \n",
       "\n",
       "                                                    geneset_size  \\\n",
       "Term                                                               \n",
       "Metabolic pathways_Homo sapiens_hsa01100                    1239   \n",
       "Purine metabolism_Homo sapiens_hsa00230                      176   \n",
       "ECM-receptor interaction_Homo sapiens_hsa04512                82   \n",
       "Focal adhesion_Homo sapiens_hsa04510                         202   \n",
       "Transcriptional misregulation in cancer_Homo sa...           180   \n",
       "Mineral absorption_Homo sapiens_hsa04978                      51   \n",
       "Pathways in cancer_Homo sapiens_hsa05200                     397   \n",
       "Neurotrophin signaling pathway_Homo sapiens_hsa...           120   \n",
       "Cytokine-cytokine receptor interaction_Homo sap...           265   \n",
       "MicroRNAs in cancer_Homo sapiens_hsa05206                    297   \n",
       "\n",
       "                                                    matched_size  \\\n",
       "Term                                                               \n",
       "Metabolic pathways_Homo sapiens_hsa01100                       4   \n",
       "Purine metabolism_Homo sapiens_hsa00230                        3   \n",
       "ECM-receptor interaction_Homo sapiens_hsa04512                 3   \n",
       "Focal adhesion_Homo sapiens_hsa04510                           4   \n",
       "Transcriptional misregulation in cancer_Homo sa...             3   \n",
       "Mineral absorption_Homo sapiens_hsa04978                       3   \n",
       "Pathways in cancer_Homo sapiens_hsa05200                       4   \n",
       "Neurotrophin signaling pathway_Homo sapiens_hsa...             3   \n",
       "Cytokine-cytokine receptor interaction_Homo sap...             3   \n",
       "MicroRNAs in cancer_Homo sapiens_hsa05206                      3   \n",
       "\n",
       "                                                                     genes  \\\n",
       "Term                                                                         \n",
       "Metabolic pathways_Homo sapiens_hsa01100              NTPCR;ATIC;ADSL;AOX1   \n",
       "Purine metabolism_Homo sapiens_hsa00230                    NTPCR;ATIC;ADSL   \n",
       "ECM-receptor interaction_Homo sapiens_hsa04512             ITGB7;TNR;ITGA6   \n",
       "Focal adhesion_Homo sapiens_hsa04510                MAPK10;ITGB7;TNR;ITGA6   \n",
       "Transcriptional misregulation in cancer_Homo sa...         ITGB7;MEN1;NGFR   \n",
       "Mineral absorption_Homo sapiens_hsa04978              TRPM7;SLC26A9;ATP1A3   \n",
       "Pathways in cancer_Homo sapiens_hsa05200             CBLB;MAPK10;TPR;ITGA6   \n",
       "Neurotrophin signaling pathway_Homo sapiens_hsa...       MAPK10;PSEN2;NGFR   \n",
       "Cytokine-cytokine receptor interaction_Homo sap...     ACVR2A;TNFRSF8;NGFR   \n",
       "MicroRNAs in cancer_Homo sapiens_hsa05206                ZFPM2;TNR;MIR16-1   \n",
       "\n",
       "                                                             ledge_genes  \n",
       "Term                                                                      \n",
       "Metabolic pathways_Homo sapiens_hsa01100            NTPCR;ATIC;ADSL;AOX1  \n",
       "Purine metabolism_Homo sapiens_hsa00230                  NTPCR;ATIC;ADSL  \n",
       "ECM-receptor interaction_Homo sapiens_hsa04512           ITGB7;TNR;ITGA6  \n",
       "Focal adhesion_Homo sapiens_hsa04510                    MAPK10;ITGB7;TNR  \n",
       "Transcriptional misregulation in cancer_Homo sa...       ITGB7;MEN1;NGFR  \n",
       "Mineral absorption_Homo sapiens_hsa04978            TRPM7;SLC26A9;ATP1A3  \n",
       "Pathways in cancer_Homo sapiens_hsa05200                     CBLB;MAPK10  \n",
       "Neurotrophin signaling pathway_Homo sapiens_hsa...     MAPK10;PSEN2;NGFR  \n",
       "Cytokine-cytokine receptor interaction_Homo sap...        ACVR2A;TNFRSF8  \n",
       "MicroRNAs in cancer_Homo sapiens_hsa05206                          ZFPM2  "
      ]
     },
     "execution_count": 41,
     "metadata": {},
     "output_type": "execute_result"
    }
   ],
   "source": [
    "from gseapy.plot import gseaplot\n",
    "#display the results\n",
    "pre_res.res2d.head(10)\n"
   ]
  },
  {
   "cell_type": "code",
   "execution_count": 42,
   "metadata": {},
   "outputs": [
    {
     "data": {
      "image/png": "[encoded data removed]",
      "text/plain": [
       "<Figure size 432x396 with 4 Axes>"
      ]
     },
     "metadata": {
      "needs_background": "light"
     },
     "output_type": "display_data"
    }
   ],
   "source": [
    "# display the smallest p-value\n",
    "# we could check any of them with changing the index of the term\n",
    "terms = pre_res.res2d.index\n",
    "gseaplot(rank_metric=pre_res.ranking, term=terms[0], **pre_res.results[terms[0]])"
   ]
  },
  {
   "cell_type": "markdown",
   "metadata": {},
   "source": [
    "here we print the list of available gene sets"
   ]
  },
  {
   "cell_type": "code",
   "execution_count": 43,
   "metadata": {},
   "outputs": [
    {
     "data": {
      "text/plain": [
       "['ARCHS4_Cell-lines',\n",
       " 'ARCHS4_IDG_Coexp',\n",
       " 'ARCHS4_Kinases_Coexp',\n",
       " 'ARCHS4_TFs_Coexp',\n",
       " 'ARCHS4_Tissues',\n",
       " 'Achilles_fitness_decrease',\n",
       " 'Achilles_fitness_increase',\n",
       " 'Aging_Perturbations_from_GEO_down',\n",
       " 'Aging_Perturbations_from_GEO_up',\n",
       " 'Allen_Brain_Atlas_down',\n",
       " 'Allen_Brain_Atlas_up',\n",
       " 'BioCarta_2013',\n",
       " 'BioCarta_2015',\n",
       " 'BioCarta_2016',\n",
       " 'BioPlanet_2019',\n",
       " 'BioPlex_2017',\n",
       " 'CORUM',\n",
       " 'Cancer_Cell_Line_Encyclopedia',\n",
       " 'ChEA_2013',\n",
       " 'ChEA_2015',\n",
       " 'ChEA_2016',\n",
       " 'Chromosome_Location',\n",
       " 'Chromosome_Location_hg19',\n",
       " 'ClinVar_2019',\n",
       " 'DSigDB',\n",
       " 'Data_Acquisition_Method_Most_Popular_Genes',\n",
       " 'DepMap_WG_CRISPR_Screens_Broad_CellLines_2019',\n",
       " 'DepMap_WG_CRISPR_Screens_Sanger_CellLines_2019',\n",
       " 'DisGeNET',\n",
       " 'Disease_Perturbations_from_GEO_down',\n",
       " 'Disease_Perturbations_from_GEO_up',\n",
       " 'Disease_Signatures_from_GEO_down_2014',\n",
       " 'Disease_Signatures_from_GEO_up_2014',\n",
       " 'DrugMatrix',\n",
       " 'Drug_Perturbations_from_GEO_2014',\n",
       " 'Drug_Perturbations_from_GEO_down',\n",
       " 'Drug_Perturbations_from_GEO_up',\n",
       " 'ENCODE_Histone_Modifications_2013',\n",
       " 'ENCODE_Histone_Modifications_2015',\n",
       " 'ENCODE_TF_ChIP-seq_2014',\n",
       " 'ENCODE_TF_ChIP-seq_2015',\n",
       " 'ENCODE_and_ChEA_Consensus_TFs_from_ChIP-X',\n",
       " 'ESCAPE',\n",
       " 'Enrichr_Libraries_Most_Popular_Genes',\n",
       " 'Enrichr_Submissions_TF-Gene_Coocurrence',\n",
       " 'Epigenomics_Roadmap_HM_ChIP-seq',\n",
       " 'GO_Biological_Process_2013',\n",
       " 'GO_Biological_Process_2015',\n",
       " 'GO_Biological_Process_2017',\n",
       " 'GO_Biological_Process_2017b',\n",
       " 'GO_Biological_Process_2018',\n",
       " 'GO_Cellular_Component_2013',\n",
       " 'GO_Cellular_Component_2015',\n",
       " 'GO_Cellular_Component_2017',\n",
       " 'GO_Cellular_Component_2017b',\n",
       " 'GO_Cellular_Component_2018',\n",
       " 'GO_Molecular_Function_2013',\n",
       " 'GO_Molecular_Function_2015',\n",
       " 'GO_Molecular_Function_2017',\n",
       " 'GO_Molecular_Function_2017b',\n",
       " 'GO_Molecular_Function_2018',\n",
       " 'GTEx_Tissue_Sample_Gene_Expression_Profiles_down',\n",
       " 'GTEx_Tissue_Sample_Gene_Expression_Profiles_up',\n",
       " 'GWAS_Catalog_2019',\n",
       " 'GeneSigDB',\n",
       " 'Gene_Perturbations_from_GEO_down',\n",
       " 'Gene_Perturbations_from_GEO_up',\n",
       " 'Genes_Associated_with_NIH_Grants',\n",
       " 'Genome_Browser_PWMs',\n",
       " 'HMDB_Metabolites',\n",
       " 'HomoloGene',\n",
       " 'HumanCyc_2015',\n",
       " 'HumanCyc_2016',\n",
       " 'Human_Gene_Atlas',\n",
       " 'Human_Phenotype_Ontology',\n",
       " 'InterPro_Domains_2019',\n",
       " 'Jensen_COMPARTMENTS',\n",
       " 'Jensen_DISEASES',\n",
       " 'Jensen_TISSUES',\n",
       " 'KEA_2013',\n",
       " 'KEA_2015',\n",
       " 'KEGG_2013',\n",
       " 'KEGG_2015',\n",
       " 'KEGG_2016',\n",
       " 'KEGG_2019_Human',\n",
       " 'KEGG_2019_Mouse',\n",
       " 'Kinase_Perturbations_from_GEO_down',\n",
       " 'Kinase_Perturbations_from_GEO_up',\n",
       " 'LINCS_L1000_Chem_Pert_down',\n",
       " 'LINCS_L1000_Chem_Pert_up',\n",
       " 'LINCS_L1000_Kinase_Perturbations_down',\n",
       " 'LINCS_L1000_Kinase_Perturbations_up',\n",
       " 'LINCS_L1000_Ligand_Perturbations_down',\n",
       " 'LINCS_L1000_Ligand_Perturbations_up',\n",
       " 'Ligand_Perturbations_from_GEO_down',\n",
       " 'Ligand_Perturbations_from_GEO_up',\n",
       " 'MCF7_Perturbations_from_GEO_down',\n",
       " 'MCF7_Perturbations_from_GEO_up',\n",
       " 'MGI_Mammalian_Phenotype_2013',\n",
       " 'MGI_Mammalian_Phenotype_2017',\n",
       " 'MGI_Mammalian_Phenotype_Level_3',\n",
       " 'MGI_Mammalian_Phenotype_Level_4',\n",
       " 'MGI_Mammalian_Phenotype_Level_4_2019',\n",
       " 'MSigDB_Computational',\n",
       " 'MSigDB_Oncogenic_Signatures',\n",
       " 'Microbe_Perturbations_from_GEO_down',\n",
       " 'Microbe_Perturbations_from_GEO_up',\n",
       " 'Mouse_Gene_Atlas',\n",
       " 'NCI-60_Cancer_Cell_Lines',\n",
       " 'NCI-Nature_2015',\n",
       " 'NCI-Nature_2016',\n",
       " 'NIH_Funded_PIs_2017_AutoRIF_ARCHS4_Predictions',\n",
       " 'NIH_Funded_PIs_2017_GeneRIF_ARCHS4_Predictions',\n",
       " 'NIH_Funded_PIs_2017_Human_AutoRIF',\n",
       " 'NIH_Funded_PIs_2017_Human_GeneRIF',\n",
       " 'NURSA_Human_Endogenous_Complexome',\n",
       " 'OMIM_Disease',\n",
       " 'OMIM_Expanded',\n",
       " 'Old_CMAP_down',\n",
       " 'Old_CMAP_up',\n",
       " 'PPI_Hub_Proteins',\n",
       " 'Panther_2015',\n",
       " 'Panther_2016',\n",
       " 'Pfam_Domains_2019',\n",
       " 'Pfam_InterPro_Domains',\n",
       " 'PheWeb_2019',\n",
       " 'Phosphatase_Substrates_from_DEPOD',\n",
       " 'RNA-Seq_Disease_Gene_and_Drug_Signatures_from_GEO',\n",
       " 'Rare_Diseases_AutoRIF_ARCHS4_Predictions',\n",
       " 'Rare_Diseases_AutoRIF_Gene_Lists',\n",
       " 'Rare_Diseases_GeneRIF_ARCHS4_Predictions',\n",
       " 'Rare_Diseases_GeneRIF_Gene_Lists',\n",
       " 'Reactome_2013',\n",
       " 'Reactome_2015',\n",
       " 'Reactome_2016',\n",
       " 'SILAC_Phosphoproteomics',\n",
       " 'SubCell_BarCode',\n",
       " 'SysMyo_Muscle_Gene_Sets',\n",
       " 'TF-LOF_Expression_from_GEO',\n",
       " 'TF_Perturbations_Followed_by_Expression',\n",
       " 'TRANSFAC_and_JASPAR_PWMs',\n",
       " 'TRRUST_Transcription_Factors_2019',\n",
       " 'TargetScan_microRNA',\n",
       " 'TargetScan_microRNA_2017',\n",
       " 'Tissue_Protein_Expression_from_Human_Proteome_Map',\n",
       " 'Tissue_Protein_Expression_from_ProteomicsDB',\n",
       " 'Transcription_Factor_PPIs',\n",
       " 'UK_Biobank_GWAS_v1',\n",
       " 'VirusMINT',\n",
       " 'Virus_Perturbations_from_GEO_down',\n",
       " 'Virus_Perturbations_from_GEO_up',\n",
       " 'WikiPathways_2013',\n",
       " 'WikiPathways_2015',\n",
       " 'WikiPathways_2016',\n",
       " 'WikiPathways_2019_Human',\n",
       " 'WikiPathways_2019_Mouse',\n",
       " 'dbGaP',\n",
       " 'huMAP',\n",
       " 'miRTarBase_2017']"
      ]
     },
     "execution_count": 43,
     "metadata": {},
     "output_type": "execute_result"
    }
   ],
   "source": [
    "# print out the available dataset\n",
    "gp.get_library_name(database='Human')"
   ]
  },
  {
   "cell_type": "markdown",
   "metadata": {},
   "source": [
    "## Gene Set Analysis with Enrichr\n",
    "We want to run an analysis that does not require a ranked list, so we will use Enrichr to run the test. We could also use the HTML interface on the web, which could be a lot more interactive and easier to interpret."
   ]
  },
  {
   "cell_type": "code",
   "execution_count": 44,
   "metadata": {},
   "outputs": [
    {
     "name": "stderr",
     "output_type": "stream",
     "text": [
      "2019-12-19 07:10:40,964 Warning: No enrich terms using library Cancer_Cell_Line_Encyclopedia when cutoff = 0.05\n",
      "2019-12-19 07:10:42,330 Warning: No enrich terms using library BioPlanet_2019 when cutoff = 0.05\n",
      "2019-12-19 07:10:43,714 Warning: No enrich terms using library KEGG_2019_Human when cutoff = 0.05\n"
     ]
    }
   ],
   "source": [
    "\n",
    "enr = gp.enrichr(gene_list=gene_list,\n",
    "                 description='test_name',\n",
    "                 gene_sets=['Cancer_Cell_Line_Encyclopedia','BioPlanet_2019','KEGG_2019_Human'],\n",
    "                 outdir='test/enrichr_kegg',\n",
    "                )\n",
    "\n"
   ]
  },
  {
   "cell_type": "code",
   "execution_count": 45,
   "metadata": {},
   "outputs": [
    {
     "data": {
      "text/html": [
       "<div>\n",
       "<style scoped>\n",
       "    .dataframe tbody tr th:only-of-type {\n",
       "        vertical-align: middle;\n",
       "    }\n",
       "\n",
       "    .dataframe tbody tr th {\n",
       "        vertical-align: top;\n",
       "    }\n",
       "\n",
       "    .dataframe thead th {\n",
       "        text-align: right;\n",
       "    }\n",
       "</style>\n",
       "<table border=\"1\" class=\"dataframe\">\n",
       "  <thead>\n",
       "    <tr style=\"text-align: right;\">\n",
       "      <th></th>\n",
       "      <th>Adjusted P-value</th>\n",
       "      <th>Combined Score</th>\n",
       "      <th>Gene_set</th>\n",
       "      <th>Genes</th>\n",
       "      <th>Odds Ratio</th>\n",
       "      <th>Old Adjusted P-value</th>\n",
       "      <th>Old P-value</th>\n",
       "      <th>Overlap</th>\n",
       "      <th>P-value</th>\n",
       "      <th>Term</th>\n",
       "    </tr>\n",
       "  </thead>\n",
       "  <tbody>\n",
       "  </tbody>\n",
       "</table>\n",
       "</div>"
      ],
      "text/plain": [
       "Empty DataFrame\n",
       "Columns: [Adjusted P-value, Combined Score, Gene_set, Genes, Odds Ratio, Old Adjusted P-value, Old P-value, Overlap, P-value, Term]\n",
       "Index: []"
      ]
     },
     "execution_count": 45,
     "metadata": {},
     "output_type": "execute_result"
    }
   ],
   "source": [
    "enr.results.head()"
   ]
  },
  {
   "cell_type": "markdown",
   "metadata": {},
   "source": [
    "Since we were not able to get comprehensive results using the python script, we will run the same gene list on the Enrichr website located [here](https://amp.pharm.mssm.edu/Enrichr/)"
   ]
  }
 ],
 "metadata": {
  "kernelspec": {
   "display_name": "Python 3",
   "language": "python",
   "name": "python3"
  },
  "language_info": {
   "codemirror_mode": {
    "name": "ipython",
    "version": 3
   },
   "file_extension": ".py",
   "mimetype": "text/x-python",
   "name": "python",
   "nbconvert_exporter": "python",
   "pygments_lexer": "ipython3",
   "version": "3.7.3"
  }
 },
 "nbformat": 4,
 "nbformat_minor": 4
}
